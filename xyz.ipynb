{
 "cells": [
  {
   "cell_type": "code",
   "execution_count": 2,
   "metadata": {},
   "outputs": [
    {
     "name": "stdout",
     "output_type": "stream",
     "text": [
      "True\n",
      "1\n",
      "NVIDIA RTX A6000\n"
     ]
    }
   ],
   "source": [
    "import torch\n",
    "print(torch.cuda.is_available())\n",
    "print(torch.cuda.device_count())\n",
    "if torch.cuda.is_available():\n",
    "    print(torch.cuda.get_device_name(0))"
   ]
  },
  {
   "cell_type": "code",
   "execution_count": 3,
   "metadata": {},
   "outputs": [],
   "source": [
    "\n",
    "from torch import nn\n",
    "import numpy as np\n",
    "import glob\n",
    "import os\n",
    "from PIL import Image\n",
    "from torch.utils.data import Dataset\n",
    "import torch.optim as optim\n",
    "from torch.utils.data.dataloader import DataLoader\n",
    "import torch\n",
    "from tqdm import tqdm\n",
    "from collections import namedtuple\n",
    "import copy\n",
    "import random\n",
    "import shutil\n",
    "from torchvision import models\n",
    "from torch.nn import functional as F\n"
   ]
  },
  {
   "cell_type": "code",
   "execution_count": 5,
   "metadata": {},
   "outputs": [
    {
     "name": "stdout",
     "output_type": "stream",
     "text": [
      "Dataset folder already exists, skipping dataset creation...\n"
     ]
    },
    {
     "name": "stderr",
     "output_type": "stream",
     "text": [
      "C:\\Users\\CSE-312-02\\AppData\\Local\\Temp\\ipykernel_6628\\2708574523.py:285: FutureWarning: You are using `torch.load` with `weights_only=False` (the current default value), which uses the default pickle module implicitly. It is possible to construct malicious pickle data which will execute arbitrary code during unpickling (See https://github.com/pytorch/pytorch/blob/main/SECURITY.md#untrusted-models for more details). In a future release, the default value for `weights_only` will be flipped to `True`. This limits the functions that could be executed during unpickling. Arbitrary objects will no longer be allowed to be loaded via this mode unless they are explicitly allowlisted by the user via `torch.serialization.add_safe_globals`. We recommend you start setting `weights_only=True` for any use case where you don't have full control of the loaded file. Please open an issue on GitHub for any issues related to this experimental feature.\n",
      "  checkpoint = torch.load(checkpoint_path)\n"
     ]
    },
    {
     "name": "stdout",
     "output_type": "stream",
     "text": [
      "Checkpoint Loaded at epoch 6 and best psnr of 38.449363708496094\n"
     ]
    },
    {
     "name": "stderr",
     "output_type": "stream",
     "text": [
      "epoch: 0/199: 100%|██████████| 18880/18880 [05:26<00:00, 60.30it/s, loss=0.000642]"
     ]
    },
    {
     "name": "stdout",
     "output_type": "stream",
     "text": [
      "eval psnr: 38.11\n"
     ]
    },
    {
     "name": "stderr",
     "output_type": "stream",
     "text": [
      "epoch: 0/199: 100%|██████████| 18880/18880 [05:42<00:00, 55.18it/s, loss=0.000642]\n"
     ]
    },
    {
     "name": "stdout",
     "output_type": "stream",
     "text": [
      "best epoch: 6, psnr: 38.45\n"
     ]
    },
    {
     "name": "stderr",
     "output_type": "stream",
     "text": [
      "epoch: 1/199: 100%|██████████| 18880/18880 [05:14<00:00, 63.35it/s, loss=0.000516]"
     ]
    },
    {
     "name": "stdout",
     "output_type": "stream",
     "text": [
      "eval psnr: 38.19\n"
     ]
    },
    {
     "name": "stderr",
     "output_type": "stream",
     "text": [
      "epoch: 1/199: 100%|██████████| 18880/18880 [05:27<00:00, 57.61it/s, loss=0.000516]\n"
     ]
    },
    {
     "name": "stdout",
     "output_type": "stream",
     "text": [
      "best epoch: 6, psnr: 38.45\n"
     ]
    },
    {
     "name": "stderr",
     "output_type": "stream",
     "text": [
      "epoch: 2/199: 100%|██████████| 18880/18880 [05:06<00:00, 63.69it/s, loss=0.000511]"
     ]
    },
    {
     "name": "stdout",
     "output_type": "stream",
     "text": [
      "eval psnr: 38.18\n"
     ]
    },
    {
     "name": "stderr",
     "output_type": "stream",
     "text": [
      "epoch: 2/199: 100%|██████████| 18880/18880 [05:22<00:00, 58.46it/s, loss=0.000511]\n"
     ]
    },
    {
     "name": "stdout",
     "output_type": "stream",
     "text": [
      "best epoch: 6, psnr: 38.45\n"
     ]
    },
    {
     "name": "stderr",
     "output_type": "stream",
     "text": [
      "epoch: 3/199: 100%|██████████| 18880/18880 [05:23<00:00, 64.25it/s, loss=0.000506]"
     ]
    },
    {
     "name": "stdout",
     "output_type": "stream",
     "text": [
      "eval psnr: 38.19\n"
     ]
    },
    {
     "name": "stderr",
     "output_type": "stream",
     "text": [
      "epoch: 3/199: 100%|██████████| 18880/18880 [05:30<00:00, 57.19it/s, loss=0.000506]\n"
     ]
    },
    {
     "name": "stdout",
     "output_type": "stream",
     "text": [
      "best epoch: 6, psnr: 38.45\n"
     ]
    },
    {
     "name": "stderr",
     "output_type": "stream",
     "text": [
      "epoch: 4/199: 100%|██████████| 18880/18880 [05:23<00:00, 61.11it/s, loss=0.000504]"
     ]
    },
    {
     "name": "stdout",
     "output_type": "stream",
     "text": [
      "eval psnr: 38.37\n"
     ]
    },
    {
     "name": "stderr",
     "output_type": "stream",
     "text": [
      "epoch: 4/199: 100%|██████████| 18880/18880 [05:35<00:00, 56.22it/s, loss=0.000504]\n"
     ]
    },
    {
     "name": "stdout",
     "output_type": "stream",
     "text": [
      "best epoch: 6, psnr: 38.45\n"
     ]
    },
    {
     "name": "stderr",
     "output_type": "stream",
     "text": [
      "epoch: 5/199: 100%|██████████| 18880/18880 [05:17<00:00, 63.87it/s, loss=0.000502]"
     ]
    },
    {
     "name": "stdout",
     "output_type": "stream",
     "text": [
      "eval psnr: 38.39\n"
     ]
    },
    {
     "name": "stderr",
     "output_type": "stream",
     "text": [
      "epoch: 5/199: 100%|██████████| 18880/18880 [05:29<00:00, 57.28it/s, loss=0.000502]\n"
     ]
    },
    {
     "name": "stdout",
     "output_type": "stream",
     "text": [
      "best epoch: 6, psnr: 38.45\n"
     ]
    },
    {
     "name": "stderr",
     "output_type": "stream",
     "text": [
      "epoch: 6/199: 100%|██████████| 18880/18880 [05:17<00:00, 63.93it/s, loss=0.000500]"
     ]
    },
    {
     "name": "stdout",
     "output_type": "stream",
     "text": [
      "eval psnr: 38.32\n",
      "reducing learning rate\n",
      "reducing unet learning rate\n"
     ]
    },
    {
     "name": "stderr",
     "output_type": "stream",
     "text": [
      "epoch: 6/199: 100%|██████████| 18880/18880 [05:29<00:00, 57.37it/s, loss=0.000500]\n"
     ]
    },
    {
     "name": "stdout",
     "output_type": "stream",
     "text": [
      "best epoch: 6, psnr: 38.45\n"
     ]
    },
    {
     "name": "stderr",
     "output_type": "stream",
     "text": [
      "epoch: 7/199: 100%|██████████| 18880/18880 [05:18<00:00, 60.17it/s, loss=0.000490]"
     ]
    },
    {
     "name": "stdout",
     "output_type": "stream",
     "text": [
      "eval psnr: 38.46\n"
     ]
    },
    {
     "name": "stderr",
     "output_type": "stream",
     "text": [
      "epoch: 7/199: 100%|██████████| 18880/18880 [05:34<00:00, 56.51it/s, loss=0.000490]\n"
     ]
    },
    {
     "name": "stdout",
     "output_type": "stream",
     "text": [
      "best epoch: 7, psnr: 38.46\n"
     ]
    },
    {
     "name": "stderr",
     "output_type": "stream",
     "text": [
      "epoch: 8/199: 100%|██████████| 18880/18880 [05:14<00:00, 60.88it/s, loss=0.000490]"
     ]
    },
    {
     "name": "stdout",
     "output_type": "stream",
     "text": [
      "eval psnr: 38.48\n"
     ]
    },
    {
     "name": "stderr",
     "output_type": "stream",
     "text": [
      "epoch: 8/199: 100%|██████████| 18880/18880 [05:29<00:00, 57.31it/s, loss=0.000490]\n"
     ]
    },
    {
     "name": "stdout",
     "output_type": "stream",
     "text": [
      "best epoch: 8, psnr: 38.48\n"
     ]
    },
    {
     "name": "stderr",
     "output_type": "stream",
     "text": [
      "epoch: 9/199: 100%|██████████| 18880/18880 [05:14<00:00, 63.63it/s, loss=0.000490]"
     ]
    },
    {
     "name": "stdout",
     "output_type": "stream",
     "text": [
      "eval psnr: 38.48\n"
     ]
    },
    {
     "name": "stderr",
     "output_type": "stream",
     "text": [
      "epoch: 9/199: 100%|██████████| 18880/18880 [05:23<00:00, 58.27it/s, loss=0.000490]\n"
     ]
    },
    {
     "name": "stdout",
     "output_type": "stream",
     "text": [
      "best epoch: 9, psnr: 38.48\n"
     ]
    },
    {
     "name": "stderr",
     "output_type": "stream",
     "text": [
      "epoch: 10/199: 100%|██████████| 18880/18880 [05:10<00:00, 64.27it/s, loss=0.000488]"
     ]
    },
    {
     "name": "stdout",
     "output_type": "stream",
     "text": [
      "eval psnr: 38.48\n"
     ]
    },
    {
     "name": "stderr",
     "output_type": "stream",
     "text": [
      "epoch: 10/199: 100%|██████████| 18880/18880 [05:20<00:00, 58.99it/s, loss=0.000488]\n"
     ]
    },
    {
     "name": "stdout",
     "output_type": "stream",
     "text": [
      "best epoch: 9, psnr: 38.48\n"
     ]
    },
    {
     "name": "stderr",
     "output_type": "stream",
     "text": [
      "epoch: 11/199: 100%|██████████| 18880/18880 [05:20<00:00, 63.07it/s, loss=0.000488]"
     ]
    },
    {
     "name": "stdout",
     "output_type": "stream",
     "text": [
      "eval psnr: 38.50\n"
     ]
    },
    {
     "name": "stderr",
     "output_type": "stream",
     "text": [
      "epoch: 11/199: 100%|██████████| 18880/18880 [05:29<00:00, 57.30it/s, loss=0.000488]\n"
     ]
    },
    {
     "name": "stdout",
     "output_type": "stream",
     "text": [
      "best epoch: 11, psnr: 38.50\n"
     ]
    },
    {
     "name": "stderr",
     "output_type": "stream",
     "text": [
      "epoch: 12/199: 100%|██████████| 18880/18880 [05:11<00:00, 64.66it/s, loss=0.000487]"
     ]
    },
    {
     "name": "stdout",
     "output_type": "stream",
     "text": [
      "eval psnr: 38.52\n"
     ]
    },
    {
     "name": "stderr",
     "output_type": "stream",
     "text": [
      "epoch: 12/199: 100%|██████████| 18880/18880 [05:22<00:00, 58.62it/s, loss=0.000487]\n"
     ]
    },
    {
     "name": "stdout",
     "output_type": "stream",
     "text": [
      "best epoch: 12, psnr: 38.52\n"
     ]
    },
    {
     "name": "stderr",
     "output_type": "stream",
     "text": [
      "epoch: 13/199: 100%|██████████| 18880/18880 [05:08<00:00, 63.44it/s, loss=0.000485]"
     ]
    },
    {
     "name": "stdout",
     "output_type": "stream",
     "text": [
      "eval psnr: 38.52\n"
     ]
    },
    {
     "name": "stderr",
     "output_type": "stream",
     "text": [
      "epoch: 13/199: 100%|██████████| 18880/18880 [05:22<00:00, 58.51it/s, loss=0.000485]\n"
     ]
    },
    {
     "name": "stdout",
     "output_type": "stream",
     "text": [
      "best epoch: 12, psnr: 38.52\n"
     ]
    },
    {
     "name": "stderr",
     "output_type": "stream",
     "text": [
      "epoch: 14/199: 100%|██████████| 18880/18880 [05:06<00:00, 65.31it/s, loss=0.000485]"
     ]
    },
    {
     "name": "stdout",
     "output_type": "stream",
     "text": [
      "eval psnr: 38.53\n"
     ]
    },
    {
     "name": "stderr",
     "output_type": "stream",
     "text": [
      "epoch: 14/199: 100%|██████████| 18880/18880 [05:21<00:00, 58.71it/s, loss=0.000485]\n"
     ]
    },
    {
     "name": "stdout",
     "output_type": "stream",
     "text": [
      "best epoch: 14, psnr: 38.53\n"
     ]
    },
    {
     "name": "stderr",
     "output_type": "stream",
     "text": [
      "epoch: 15/199: 100%|██████████| 18880/18880 [05:04<00:00, 64.94it/s, loss=0.000484]"
     ]
    },
    {
     "name": "stdout",
     "output_type": "stream",
     "text": [
      "eval psnr: 38.52\n"
     ]
    },
    {
     "name": "stderr",
     "output_type": "stream",
     "text": [
      "epoch: 15/199: 100%|██████████| 18880/18880 [05:16<00:00, 59.71it/s, loss=0.000484]\n"
     ]
    },
    {
     "name": "stdout",
     "output_type": "stream",
     "text": [
      "best epoch: 14, psnr: 38.53\n"
     ]
    },
    {
     "name": "stderr",
     "output_type": "stream",
     "text": [
      "epoch: 16/199: 100%|██████████| 18880/18880 [05:08<00:00, 64.17it/s, loss=0.000483]"
     ]
    },
    {
     "name": "stdout",
     "output_type": "stream",
     "text": [
      "eval psnr: 38.55\n"
     ]
    },
    {
     "name": "stderr",
     "output_type": "stream",
     "text": [
      "epoch: 16/199: 100%|██████████| 18880/18880 [05:14<00:00, 59.94it/s, loss=0.000483]\n"
     ]
    },
    {
     "name": "stdout",
     "output_type": "stream",
     "text": [
      "best epoch: 16, psnr: 38.55\n"
     ]
    },
    {
     "name": "stderr",
     "output_type": "stream",
     "text": [
      "epoch: 17/199: 100%|██████████| 18880/18880 [05:02<00:00, 61.00it/s, loss=0.000482]"
     ]
    },
    {
     "name": "stdout",
     "output_type": "stream",
     "text": [
      "eval psnr: 38.55\n"
     ]
    },
    {
     "name": "stderr",
     "output_type": "stream",
     "text": [
      "epoch: 17/199: 100%|██████████| 18880/18880 [05:17<00:00, 59.42it/s, loss=0.000482]\n"
     ]
    },
    {
     "name": "stdout",
     "output_type": "stream",
     "text": [
      "best epoch: 17, psnr: 38.55\n"
     ]
    },
    {
     "name": "stderr",
     "output_type": "stream",
     "text": [
      "epoch: 18/199: 100%|██████████| 18880/18880 [05:05<00:00, 66.48it/s, loss=0.000481]"
     ]
    },
    {
     "name": "stdout",
     "output_type": "stream",
     "text": [
      "eval psnr: 38.54\n"
     ]
    },
    {
     "name": "stderr",
     "output_type": "stream",
     "text": [
      "epoch: 18/199: 100%|██████████| 18880/18880 [05:11<00:00, 60.63it/s, loss=0.000481]\n"
     ]
    },
    {
     "name": "stdout",
     "output_type": "stream",
     "text": [
      "best epoch: 17, psnr: 38.55\n"
     ]
    },
    {
     "name": "stderr",
     "output_type": "stream",
     "text": [
      "epoch: 19/199: 100%|██████████| 18880/18880 [05:03<00:00, 64.41it/s, loss=0.000480]"
     ]
    },
    {
     "name": "stdout",
     "output_type": "stream",
     "text": [
      "eval psnr: 38.55\n"
     ]
    },
    {
     "name": "stderr",
     "output_type": "stream",
     "text": [
      "epoch: 19/199: 100%|██████████| 18880/18880 [05:15<00:00, 59.94it/s, loss=0.000480]\n"
     ]
    },
    {
     "name": "stdout",
     "output_type": "stream",
     "text": [
      "best epoch: 19, psnr: 38.55\n"
     ]
    },
    {
     "name": "stderr",
     "output_type": "stream",
     "text": [
      "epoch: 20/199: 100%|██████████| 18880/18880 [04:58<00:00, 66.81it/s, loss=0.000479]"
     ]
    },
    {
     "name": "stdout",
     "output_type": "stream",
     "text": [
      "eval psnr: 38.56\n"
     ]
    },
    {
     "name": "stderr",
     "output_type": "stream",
     "text": [
      "epoch: 20/199: 100%|██████████| 18880/18880 [05:08<00:00, 61.13it/s, loss=0.000479]\n"
     ]
    },
    {
     "name": "stdout",
     "output_type": "stream",
     "text": [
      "best epoch: 20, psnr: 38.56\n"
     ]
    },
    {
     "name": "stderr",
     "output_type": "stream",
     "text": [
      "epoch: 21/199: 100%|██████████| 18880/18880 [04:59<00:00, 66.68it/s, loss=0.000478]"
     ]
    },
    {
     "name": "stdout",
     "output_type": "stream",
     "text": [
      "eval psnr: 38.57\n"
     ]
    },
    {
     "name": "stderr",
     "output_type": "stream",
     "text": [
      "epoch: 21/199: 100%|██████████| 18880/18880 [05:11<00:00, 60.52it/s, loss=0.000478]\n"
     ]
    },
    {
     "name": "stdout",
     "output_type": "stream",
     "text": [
      "best epoch: 21, psnr: 38.57\n"
     ]
    },
    {
     "name": "stderr",
     "output_type": "stream",
     "text": [
      "epoch: 22/199: 100%|██████████| 18880/18880 [04:57<00:00, 66.15it/s, loss=0.000478]"
     ]
    },
    {
     "name": "stdout",
     "output_type": "stream",
     "text": [
      "eval psnr: 38.56\n"
     ]
    },
    {
     "name": "stderr",
     "output_type": "stream",
     "text": [
      "epoch: 22/199: 100%|██████████| 18880/18880 [05:10<00:00, 60.72it/s, loss=0.000478]\n"
     ]
    },
    {
     "name": "stdout",
     "output_type": "stream",
     "text": [
      "best epoch: 21, psnr: 38.57\n"
     ]
    },
    {
     "name": "stderr",
     "output_type": "stream",
     "text": [
      "epoch: 23/199: 100%|██████████| 18880/18880 [05:06<00:00, 65.38it/s, loss=0.000477]"
     ]
    },
    {
     "name": "stdout",
     "output_type": "stream",
     "text": [
      "eval psnr: 38.57\n"
     ]
    },
    {
     "name": "stderr",
     "output_type": "stream",
     "text": [
      "epoch: 23/199: 100%|██████████| 18880/18880 [05:14<00:00, 60.06it/s, loss=0.000477]\n"
     ]
    },
    {
     "name": "stdout",
     "output_type": "stream",
     "text": [
      "best epoch: 23, psnr: 38.57\n"
     ]
    },
    {
     "name": "stderr",
     "output_type": "stream",
     "text": [
      "epoch: 24/199: 100%|██████████| 18880/18880 [05:22<00:00, 63.57it/s, loss=0.000476]"
     ]
    },
    {
     "name": "stdout",
     "output_type": "stream",
     "text": [
      "eval psnr: 38.52\n"
     ]
    },
    {
     "name": "stderr",
     "output_type": "stream",
     "text": [
      "epoch: 24/199: 100%|██████████| 18880/18880 [05:29<00:00, 57.35it/s, loss=0.000476]\n"
     ]
    },
    {
     "name": "stdout",
     "output_type": "stream",
     "text": [
      "best epoch: 23, psnr: 38.57\n"
     ]
    },
    {
     "name": "stderr",
     "output_type": "stream",
     "text": [
      "epoch: 25/199: 100%|██████████| 18880/18880 [05:22<00:00, 63.96it/s, loss=0.000475]"
     ]
    },
    {
     "name": "stdout",
     "output_type": "stream",
     "text": [
      "eval psnr: 38.56\n"
     ]
    },
    {
     "name": "stderr",
     "output_type": "stream",
     "text": [
      "epoch: 25/199: 100%|██████████| 18880/18880 [05:28<00:00, 57.44it/s, loss=0.000475]\n"
     ]
    },
    {
     "name": "stdout",
     "output_type": "stream",
     "text": [
      "best epoch: 23, psnr: 38.57\n"
     ]
    },
    {
     "name": "stderr",
     "output_type": "stream",
     "text": [
      "epoch: 26/199: 100%|██████████| 18880/18880 [05:04<00:00, 64.82it/s, loss=0.000474]"
     ]
    },
    {
     "name": "stdout",
     "output_type": "stream",
     "text": [
      "eval psnr: 38.57\n"
     ]
    },
    {
     "name": "stderr",
     "output_type": "stream",
     "text": [
      "epoch: 26/199: 100%|██████████| 18880/18880 [05:13<00:00, 60.13it/s, loss=0.000474]\n"
     ]
    },
    {
     "name": "stdout",
     "output_type": "stream",
     "text": [
      "best epoch: 26, psnr: 38.57\n"
     ]
    },
    {
     "name": "stderr",
     "output_type": "stream",
     "text": [
      "epoch: 27/199: 100%|██████████| 18880/18880 [04:59<00:00, 64.24it/s, loss=0.000474]"
     ]
    },
    {
     "name": "stdout",
     "output_type": "stream",
     "text": [
      "eval psnr: 38.45\n"
     ]
    },
    {
     "name": "stderr",
     "output_type": "stream",
     "text": [
      "epoch: 27/199: 100%|██████████| 18880/18880 [05:14<00:00, 60.03it/s, loss=0.000474]\n"
     ]
    },
    {
     "name": "stdout",
     "output_type": "stream",
     "text": [
      "best epoch: 26, psnr: 38.57\n"
     ]
    },
    {
     "name": "stderr",
     "output_type": "stream",
     "text": [
      "epoch: 28/199: 100%|██████████| 18880/18880 [05:15<00:00, 62.54it/s, loss=0.000473]"
     ]
    },
    {
     "name": "stdout",
     "output_type": "stream",
     "text": [
      "eval psnr: 38.59\n"
     ]
    },
    {
     "name": "stderr",
     "output_type": "stream",
     "text": [
      "epoch: 28/199: 100%|██████████| 18880/18880 [05:25<00:00, 57.94it/s, loss=0.000473]\n"
     ]
    },
    {
     "name": "stdout",
     "output_type": "stream",
     "text": [
      "best epoch: 28, psnr: 38.59\n"
     ]
    },
    {
     "name": "stderr",
     "output_type": "stream",
     "text": [
      "epoch: 29/199: 100%|██████████| 18880/18880 [05:09<00:00, 64.49it/s, loss=0.000472]"
     ]
    },
    {
     "name": "stdout",
     "output_type": "stream",
     "text": [
      "eval psnr: 38.59\n"
     ]
    },
    {
     "name": "stderr",
     "output_type": "stream",
     "text": [
      "epoch: 29/199: 100%|██████████| 18880/18880 [05:21<00:00, 58.71it/s, loss=0.000472]\n"
     ]
    },
    {
     "name": "stdout",
     "output_type": "stream",
     "text": [
      "best epoch: 28, psnr: 38.59\n"
     ]
    },
    {
     "name": "stderr",
     "output_type": "stream",
     "text": [
      "epoch: 30/199: 100%|██████████| 18880/18880 [05:17<00:00, 63.66it/s, loss=0.000472]"
     ]
    },
    {
     "name": "stdout",
     "output_type": "stream",
     "text": [
      "eval psnr: 38.59\n"
     ]
    },
    {
     "name": "stderr",
     "output_type": "stream",
     "text": [
      "epoch: 30/199: 100%|██████████| 18880/18880 [05:27<00:00, 57.69it/s, loss=0.000472]\n"
     ]
    },
    {
     "name": "stdout",
     "output_type": "stream",
     "text": [
      "best epoch: 28, psnr: 38.59\n"
     ]
    },
    {
     "name": "stderr",
     "output_type": "stream",
     "text": [
      "epoch: 31/199: 100%|██████████| 18880/18880 [05:10<00:00, 64.19it/s, loss=0.000470]"
     ]
    },
    {
     "name": "stdout",
     "output_type": "stream",
     "text": [
      "eval psnr: 38.59\n"
     ]
    },
    {
     "name": "stderr",
     "output_type": "stream",
     "text": [
      "epoch: 31/199: 100%|██████████| 18880/18880 [05:20<00:00, 58.95it/s, loss=0.000470]\n"
     ]
    },
    {
     "name": "stdout",
     "output_type": "stream",
     "text": [
      "best epoch: 28, psnr: 38.59\n"
     ]
    },
    {
     "name": "stderr",
     "output_type": "stream",
     "text": [
      "epoch: 32/199: 100%|██████████| 18880/18880 [05:09<00:00, 64.79it/s, loss=0.000469]"
     ]
    },
    {
     "name": "stdout",
     "output_type": "stream",
     "text": [
      "eval psnr: 38.54\n"
     ]
    },
    {
     "name": "stderr",
     "output_type": "stream",
     "text": [
      "epoch: 32/199: 100%|██████████| 18880/18880 [05:18<00:00, 59.33it/s, loss=0.000469]\n"
     ]
    },
    {
     "name": "stdout",
     "output_type": "stream",
     "text": [
      "best epoch: 28, psnr: 38.59\n"
     ]
    },
    {
     "name": "stderr",
     "output_type": "stream",
     "text": [
      "epoch: 33/199: 100%|██████████| 18880/18880 [05:11<00:00, 64.19it/s, loss=0.000469]"
     ]
    },
    {
     "name": "stdout",
     "output_type": "stream",
     "text": [
      "eval psnr: 38.60\n"
     ]
    },
    {
     "name": "stderr",
     "output_type": "stream",
     "text": [
      "epoch: 33/199: 100%|██████████| 18880/18880 [05:17<00:00, 59.51it/s, loss=0.000469]\n"
     ]
    },
    {
     "name": "stdout",
     "output_type": "stream",
     "text": [
      "best epoch: 33, psnr: 38.60\n"
     ]
    },
    {
     "name": "stderr",
     "output_type": "stream",
     "text": [
      "epoch: 34/199: 100%|██████████| 18880/18880 [05:14<00:00, 65.03it/s, loss=0.000468]"
     ]
    },
    {
     "name": "stdout",
     "output_type": "stream",
     "text": [
      "eval psnr: 38.61\n"
     ]
    },
    {
     "name": "stderr",
     "output_type": "stream",
     "text": [
      "epoch: 34/199: 100%|██████████| 18880/18880 [05:26<00:00, 57.80it/s, loss=0.000468]\n"
     ]
    },
    {
     "name": "stdout",
     "output_type": "stream",
     "text": [
      "best epoch: 34, psnr: 38.61\n"
     ]
    },
    {
     "name": "stderr",
     "output_type": "stream",
     "text": [
      "epoch: 35/199: 100%|██████████| 18880/18880 [05:07<00:00, 66.30it/s, loss=0.000468]"
     ]
    },
    {
     "name": "stdout",
     "output_type": "stream",
     "text": [
      "eval psnr: 38.59\n"
     ]
    },
    {
     "name": "stderr",
     "output_type": "stream",
     "text": [
      "epoch: 35/199: 100%|██████████| 18880/18880 [05:12<00:00, 60.43it/s, loss=0.000468]\n"
     ]
    },
    {
     "name": "stdout",
     "output_type": "stream",
     "text": [
      "best epoch: 34, psnr: 38.61\n"
     ]
    },
    {
     "name": "stderr",
     "output_type": "stream",
     "text": [
      "epoch: 36/199: 100%|██████████| 18880/18880 [05:04<00:00, 64.83it/s, loss=0.000466]"
     ]
    },
    {
     "name": "stdout",
     "output_type": "stream",
     "text": [
      "eval psnr: 38.58\n"
     ]
    },
    {
     "name": "stderr",
     "output_type": "stream",
     "text": [
      "epoch: 36/199: 100%|██████████| 18880/18880 [05:14<00:00, 60.03it/s, loss=0.000466]\n"
     ]
    },
    {
     "name": "stdout",
     "output_type": "stream",
     "text": [
      "best epoch: 34, psnr: 38.61\n"
     ]
    },
    {
     "name": "stderr",
     "output_type": "stream",
     "text": [
      "epoch: 37/199: 100%|██████████| 18880/18880 [05:10<00:00, 63.20it/s, loss=0.000466]"
     ]
    },
    {
     "name": "stdout",
     "output_type": "stream",
     "text": [
      "eval psnr: 38.59\n"
     ]
    },
    {
     "name": "stderr",
     "output_type": "stream",
     "text": [
      "epoch: 37/199: 100%|██████████| 18880/18880 [05:24<00:00, 58.12it/s, loss=0.000466]\n"
     ]
    },
    {
     "name": "stdout",
     "output_type": "stream",
     "text": [
      "best epoch: 34, psnr: 38.61\n"
     ]
    },
    {
     "name": "stderr",
     "output_type": "stream",
     "text": [
      "epoch: 38/199: 100%|██████████| 18880/18880 [05:15<00:00, 62.17it/s, loss=0.000464]"
     ]
    },
    {
     "name": "stdout",
     "output_type": "stream",
     "text": [
      "eval psnr: 38.57\n"
     ]
    },
    {
     "name": "stderr",
     "output_type": "stream",
     "text": [
      "epoch: 38/199: 100%|██████████| 18880/18880 [05:25<00:00, 58.07it/s, loss=0.000464]\n"
     ]
    },
    {
     "name": "stdout",
     "output_type": "stream",
     "text": [
      "best epoch: 34, psnr: 38.61\n"
     ]
    },
    {
     "name": "stderr",
     "output_type": "stream",
     "text": [
      "epoch: 39/199: 100%|██████████| 18880/18880 [05:10<00:00, 64.37it/s, loss=0.000464]"
     ]
    },
    {
     "name": "stdout",
     "output_type": "stream",
     "text": [
      "eval psnr: 38.59\n"
     ]
    },
    {
     "name": "stderr",
     "output_type": "stream",
     "text": [
      "epoch: 39/199: 100%|██████████| 18880/18880 [05:16<00:00, 59.56it/s, loss=0.000464]\n"
     ]
    },
    {
     "name": "stdout",
     "output_type": "stream",
     "text": [
      "best epoch: 34, psnr: 38.61\n"
     ]
    },
    {
     "name": "stderr",
     "output_type": "stream",
     "text": [
      "epoch: 40/199: 100%|██████████| 18880/18880 [05:03<00:00, 64.50it/s, loss=0.000464]"
     ]
    },
    {
     "name": "stdout",
     "output_type": "stream",
     "text": [
      "eval psnr: 38.60\n"
     ]
    },
    {
     "name": "stderr",
     "output_type": "stream",
     "text": [
      "epoch: 40/199: 100%|██████████| 18880/18880 [05:14<00:00, 60.10it/s, loss=0.000464]\n"
     ]
    },
    {
     "name": "stdout",
     "output_type": "stream",
     "text": [
      "best epoch: 34, psnr: 38.61\n"
     ]
    },
    {
     "name": "stderr",
     "output_type": "stream",
     "text": [
      "epoch: 41/199: 100%|██████████| 18880/18880 [05:18<00:00, 60.28it/s, loss=0.000462]"
     ]
    },
    {
     "name": "stdout",
     "output_type": "stream",
     "text": [
      "eval psnr: 38.61\n",
      "reducing learning rate\n",
      "reducing unet learning rate\n"
     ]
    },
    {
     "name": "stderr",
     "output_type": "stream",
     "text": [
      "epoch: 41/199: 100%|██████████| 18880/18880 [05:25<00:00, 58.01it/s, loss=0.000462]\n"
     ]
    },
    {
     "name": "stdout",
     "output_type": "stream",
     "text": [
      "best epoch: 34, psnr: 38.61\n"
     ]
    },
    {
     "name": "stderr",
     "output_type": "stream",
     "text": [
      "epoch: 42/199: 100%|██████████| 18880/18880 [05:23<00:00, 59.41it/s, loss=0.000457]"
     ]
    },
    {
     "name": "stdout",
     "output_type": "stream",
     "text": [
      "eval psnr: 38.61\n"
     ]
    },
    {
     "name": "stderr",
     "output_type": "stream",
     "text": [
      "epoch: 42/199: 100%|██████████| 18880/18880 [05:36<00:00, 56.19it/s, loss=0.000457]\n"
     ]
    },
    {
     "name": "stdout",
     "output_type": "stream",
     "text": [
      "best epoch: 42, psnr: 38.61\n"
     ]
    },
    {
     "name": "stderr",
     "output_type": "stream",
     "text": [
      "epoch: 43/199: 100%|██████████| 18880/18880 [05:17<00:00, 62.34it/s, loss=0.000456]"
     ]
    },
    {
     "name": "stdout",
     "output_type": "stream",
     "text": [
      "eval psnr: 38.60\n"
     ]
    },
    {
     "name": "stderr",
     "output_type": "stream",
     "text": [
      "epoch: 43/199: 100%|██████████| 18880/18880 [05:27<00:00, 57.61it/s, loss=0.000456]\n"
     ]
    },
    {
     "name": "stdout",
     "output_type": "stream",
     "text": [
      "best epoch: 42, psnr: 38.61\n"
     ]
    },
    {
     "name": "stderr",
     "output_type": "stream",
     "text": [
      "epoch: 44/199: 100%|██████████| 18880/18880 [05:19<00:00, 60.81it/s, loss=0.000456]"
     ]
    },
    {
     "name": "stdout",
     "output_type": "stream",
     "text": [
      "eval psnr: 38.61\n"
     ]
    },
    {
     "name": "stderr",
     "output_type": "stream",
     "text": [
      "epoch: 44/199: 100%|██████████| 18880/18880 [05:28<00:00, 57.41it/s, loss=0.000456]\n"
     ]
    },
    {
     "name": "stdout",
     "output_type": "stream",
     "text": [
      "best epoch: 42, psnr: 38.61\n"
     ]
    },
    {
     "name": "stderr",
     "output_type": "stream",
     "text": [
      "epoch: 45/199: 100%|██████████| 18880/18880 [05:00<00:00, 65.60it/s, loss=0.000456]"
     ]
    },
    {
     "name": "stdout",
     "output_type": "stream",
     "text": [
      "eval psnr: 38.59\n"
     ]
    },
    {
     "name": "stderr",
     "output_type": "stream",
     "text": [
      "epoch: 45/199: 100%|██████████| 18880/18880 [05:13<00:00, 60.22it/s, loss=0.000456]\n"
     ]
    },
    {
     "name": "stdout",
     "output_type": "stream",
     "text": [
      "best epoch: 42, psnr: 38.61\n"
     ]
    },
    {
     "name": "stderr",
     "output_type": "stream",
     "text": [
      "epoch: 46/199: 100%|██████████| 18880/18880 [05:06<00:00, 66.09it/s, loss=0.000455]"
     ]
    },
    {
     "name": "stdout",
     "output_type": "stream",
     "text": [
      "eval psnr: 38.59\n"
     ]
    },
    {
     "name": "stderr",
     "output_type": "stream",
     "text": [
      "epoch: 46/199: 100%|██████████| 18880/18880 [05:12<00:00, 60.45it/s, loss=0.000455]\n"
     ]
    },
    {
     "name": "stdout",
     "output_type": "stream",
     "text": [
      "best epoch: 42, psnr: 38.61\n"
     ]
    },
    {
     "name": "stderr",
     "output_type": "stream",
     "text": [
      "epoch: 47/199: 100%|██████████| 18880/18880 [05:04<00:00, 66.10it/s, loss=0.000454]"
     ]
    },
    {
     "name": "stdout",
     "output_type": "stream",
     "text": [
      "eval psnr: 38.59\n"
     ]
    },
    {
     "name": "stderr",
     "output_type": "stream",
     "text": [
      "epoch: 47/199: 100%|██████████| 18880/18880 [05:13<00:00, 60.28it/s, loss=0.000454]\n"
     ]
    },
    {
     "name": "stdout",
     "output_type": "stream",
     "text": [
      "best epoch: 42, psnr: 38.61\n"
     ]
    },
    {
     "name": "stderr",
     "output_type": "stream",
     "text": [
      "epoch: 48/199: 100%|██████████| 18880/18880 [05:00<00:00, 65.48it/s, loss=0.000454]"
     ]
    },
    {
     "name": "stdout",
     "output_type": "stream",
     "text": [
      "eval psnr: 38.59\n"
     ]
    },
    {
     "name": "stderr",
     "output_type": "stream",
     "text": [
      "epoch: 48/199: 100%|██████████| 18880/18880 [05:13<00:00, 60.31it/s, loss=0.000454]\n"
     ]
    },
    {
     "name": "stdout",
     "output_type": "stream",
     "text": [
      "best epoch: 42, psnr: 38.61\n"
     ]
    },
    {
     "name": "stderr",
     "output_type": "stream",
     "text": [
      "epoch: 49/199: 100%|██████████| 18880/18880 [05:07<00:00, 65.47it/s, loss=0.000453]"
     ]
    },
    {
     "name": "stdout",
     "output_type": "stream",
     "text": [
      "eval psnr: 38.57\n",
      "reducing learning rate\n",
      "reducing unet learning rate\n"
     ]
    },
    {
     "name": "stderr",
     "output_type": "stream",
     "text": [
      "epoch: 49/199: 100%|██████████| 18880/18880 [05:15<00:00, 59.87it/s, loss=0.000453]\n"
     ]
    },
    {
     "name": "stdout",
     "output_type": "stream",
     "text": [
      "best epoch: 42, psnr: 38.61\n"
     ]
    },
    {
     "name": "stderr",
     "output_type": "stream",
     "text": [
      "epoch: 50/199: 100%|██████████| 18880/18880 [05:02<00:00, 64.89it/s, loss=0.000451]"
     ]
    },
    {
     "name": "stdout",
     "output_type": "stream",
     "text": [
      "eval psnr: 38.58\n"
     ]
    },
    {
     "name": "stderr",
     "output_type": "stream",
     "text": [
      "epoch: 50/199: 100%|██████████| 18880/18880 [05:15<00:00, 59.94it/s, loss=0.000451]\n"
     ]
    },
    {
     "name": "stdout",
     "output_type": "stream",
     "text": [
      "best epoch: 42, psnr: 38.61\n"
     ]
    },
    {
     "name": "stderr",
     "output_type": "stream",
     "text": [
      "epoch: 51/199: 100%|██████████| 18880/18880 [05:07<00:00, 65.13it/s, loss=0.000450]"
     ]
    },
    {
     "name": "stdout",
     "output_type": "stream",
     "text": [
      "eval psnr: 38.60\n"
     ]
    },
    {
     "name": "stderr",
     "output_type": "stream",
     "text": [
      "epoch: 51/199: 100%|██████████| 18880/18880 [05:16<00:00, 59.66it/s, loss=0.000450]\n"
     ]
    },
    {
     "name": "stdout",
     "output_type": "stream",
     "text": [
      "best epoch: 42, psnr: 38.61\n"
     ]
    },
    {
     "name": "stderr",
     "output_type": "stream",
     "text": [
      "epoch: 52/199: 100%|██████████| 18880/18880 [05:10<00:00, 64.50it/s, loss=0.000450]"
     ]
    },
    {
     "name": "stdout",
     "output_type": "stream",
     "text": [
      "eval psnr: 38.59\n"
     ]
    },
    {
     "name": "stderr",
     "output_type": "stream",
     "text": [
      "epoch: 52/199: 100%|██████████| 18880/18880 [05:16<00:00, 59.60it/s, loss=0.000450]\n"
     ]
    },
    {
     "name": "stdout",
     "output_type": "stream",
     "text": [
      "best epoch: 42, psnr: 38.61\n"
     ]
    },
    {
     "name": "stderr",
     "output_type": "stream",
     "text": [
      "epoch: 53/199: 100%|██████████| 18880/18880 [05:03<00:00, 65.34it/s, loss=0.000450]"
     ]
    },
    {
     "name": "stdout",
     "output_type": "stream",
     "text": [
      "eval psnr: 38.59\n"
     ]
    },
    {
     "name": "stderr",
     "output_type": "stream",
     "text": [
      "epoch: 53/199: 100%|██████████| 18880/18880 [05:16<00:00, 59.68it/s, loss=0.000450]\n"
     ]
    },
    {
     "name": "stdout",
     "output_type": "stream",
     "text": [
      "best epoch: 42, psnr: 38.61\n"
     ]
    },
    {
     "name": "stderr",
     "output_type": "stream",
     "text": [
      "epoch: 54/199: 100%|██████████| 18880/18880 [05:17<00:00, 63.57it/s, loss=0.000449]"
     ]
    },
    {
     "name": "stdout",
     "output_type": "stream",
     "text": [
      "eval psnr: 38.59\n"
     ]
    },
    {
     "name": "stderr",
     "output_type": "stream",
     "text": [
      "epoch: 54/199: 100%|██████████| 18880/18880 [05:29<00:00, 57.24it/s, loss=0.000449]\n"
     ]
    },
    {
     "name": "stdout",
     "output_type": "stream",
     "text": [
      "best epoch: 42, psnr: 38.61\n"
     ]
    },
    {
     "name": "stderr",
     "output_type": "stream",
     "text": [
      "epoch: 55/199: 100%|██████████| 18880/18880 [05:17<00:00, 63.86it/s, loss=0.000449]"
     ]
    },
    {
     "name": "stdout",
     "output_type": "stream",
     "text": [
      "eval psnr: 38.58\n"
     ]
    },
    {
     "name": "stderr",
     "output_type": "stream",
     "text": [
      "epoch: 55/199: 100%|██████████| 18880/18880 [05:30<00:00, 57.14it/s, loss=0.000449]\n"
     ]
    },
    {
     "name": "stdout",
     "output_type": "stream",
     "text": [
      "best epoch: 42, psnr: 38.61\n"
     ]
    },
    {
     "name": "stderr",
     "output_type": "stream",
     "text": [
      "epoch: 56/199: 100%|██████████| 18880/18880 [05:16<00:00, 63.27it/s, loss=0.000449]"
     ]
    },
    {
     "name": "stdout",
     "output_type": "stream",
     "text": [
      "eval psnr: 38.57\n",
      "reducing learning rate\n",
      "reducing unet learning rate\n"
     ]
    },
    {
     "name": "stderr",
     "output_type": "stream",
     "text": [
      "epoch: 56/199: 100%|██████████| 18880/18880 [05:29<00:00, 57.25it/s, loss=0.000449]\n"
     ]
    },
    {
     "name": "stdout",
     "output_type": "stream",
     "text": [
      "best epoch: 42, psnr: 38.61\n"
     ]
    },
    {
     "name": "stderr",
     "output_type": "stream",
     "text": [
      "epoch: 57/199: 100%|██████████| 18880/18880 [05:16<00:00, 62.81it/s, loss=0.000447]"
     ]
    },
    {
     "name": "stdout",
     "output_type": "stream",
     "text": [
      "eval psnr: 38.58\n"
     ]
    },
    {
     "name": "stderr",
     "output_type": "stream",
     "text": [
      "epoch: 57/199: 100%|██████████| 18880/18880 [05:29<00:00, 57.28it/s, loss=0.000447]\n"
     ]
    },
    {
     "name": "stdout",
     "output_type": "stream",
     "text": [
      "best epoch: 42, psnr: 38.61\n"
     ]
    },
    {
     "name": "stderr",
     "output_type": "stream",
     "text": [
      "epoch: 58/199: 100%|██████████| 18880/18880 [05:16<00:00, 61.59it/s, loss=0.000447]"
     ]
    },
    {
     "name": "stdout",
     "output_type": "stream",
     "text": [
      "eval psnr: 38.58\n"
     ]
    },
    {
     "name": "stderr",
     "output_type": "stream",
     "text": [
      "epoch: 58/199: 100%|██████████| 18880/18880 [05:30<00:00, 57.09it/s, loss=0.000447]\n"
     ]
    },
    {
     "name": "stdout",
     "output_type": "stream",
     "text": [
      "best epoch: 42, psnr: 38.61\n"
     ]
    },
    {
     "name": "stderr",
     "output_type": "stream",
     "text": [
      "epoch: 59/199: 100%|██████████| 18880/18880 [05:06<00:00, 65.37it/s, loss=0.000447]"
     ]
    },
    {
     "name": "stdout",
     "output_type": "stream",
     "text": [
      "eval psnr: 38.58\n"
     ]
    },
    {
     "name": "stderr",
     "output_type": "stream",
     "text": [
      "epoch: 59/199: 100%|██████████| 18880/18880 [05:11<00:00, 60.56it/s, loss=0.000447]\n"
     ]
    },
    {
     "name": "stdout",
     "output_type": "stream",
     "text": [
      "best epoch: 42, psnr: 38.61\n"
     ]
    },
    {
     "name": "stderr",
     "output_type": "stream",
     "text": [
      "epoch: 60/199: 100%|██████████| 18880/18880 [05:04<00:00, 65.13it/s, loss=0.000447]"
     ]
    },
    {
     "name": "stdout",
     "output_type": "stream",
     "text": [
      "eval psnr: 38.57\n"
     ]
    },
    {
     "name": "stderr",
     "output_type": "stream",
     "text": [
      "epoch: 60/199: 100%|██████████| 18880/18880 [05:15<00:00, 59.88it/s, loss=0.000447]\n"
     ]
    },
    {
     "name": "stdout",
     "output_type": "stream",
     "text": [
      "best epoch: 42, psnr: 38.61\n"
     ]
    },
    {
     "name": "stderr",
     "output_type": "stream",
     "text": [
      "epoch: 61/199: 100%|██████████| 18880/18880 [05:08<00:00, 63.78it/s, loss=0.000447]"
     ]
    },
    {
     "name": "stdout",
     "output_type": "stream",
     "text": [
      "eval psnr: 38.57\n"
     ]
    },
    {
     "name": "stderr",
     "output_type": "stream",
     "text": [
      "epoch: 61/199: 100%|██████████| 18880/18880 [05:19<00:00, 59.02it/s, loss=0.000447]\n"
     ]
    },
    {
     "name": "stdout",
     "output_type": "stream",
     "text": [
      "best epoch: 42, psnr: 38.61\n"
     ]
    },
    {
     "name": "stderr",
     "output_type": "stream",
     "text": [
      "epoch: 62/199: 100%|██████████| 18880/18880 [05:18<00:00, 63.48it/s, loss=0.000446]"
     ]
    },
    {
     "name": "stdout",
     "output_type": "stream",
     "text": [
      "eval psnr: 38.57\n"
     ]
    },
    {
     "name": "stderr",
     "output_type": "stream",
     "text": [
      "epoch: 62/199: 100%|██████████| 18880/18880 [05:29<00:00, 57.32it/s, loss=0.000446]\n"
     ]
    },
    {
     "name": "stdout",
     "output_type": "stream",
     "text": [
      "best epoch: 42, psnr: 38.61\n"
     ]
    },
    {
     "name": "stderr",
     "output_type": "stream",
     "text": [
      "epoch: 63/199: 100%|██████████| 18880/18880 [05:19<00:00, 65.32it/s, loss=0.000446]"
     ]
    },
    {
     "name": "stdout",
     "output_type": "stream",
     "text": [
      "eval psnr: 38.58\n",
      "reducing learning rate\n",
      "reducing unet learning rate\n"
     ]
    },
    {
     "name": "stderr",
     "output_type": "stream",
     "text": [
      "epoch: 63/199: 100%|██████████| 18880/18880 [05:26<00:00, 57.90it/s, loss=0.000446]\n"
     ]
    },
    {
     "name": "stdout",
     "output_type": "stream",
     "text": [
      "best epoch: 42, psnr: 38.61\n"
     ]
    },
    {
     "name": "stderr",
     "output_type": "stream",
     "text": [
      "epoch: 64/199: 100%|██████████| 18880/18880 [05:03<00:00, 64.93it/s, loss=0.000446]"
     ]
    },
    {
     "name": "stdout",
     "output_type": "stream",
     "text": [
      "eval psnr: 38.57\n"
     ]
    },
    {
     "name": "stderr",
     "output_type": "stream",
     "text": [
      "epoch: 64/199: 100%|██████████| 18880/18880 [05:18<00:00, 59.35it/s, loss=0.000446]\n"
     ]
    },
    {
     "name": "stdout",
     "output_type": "stream",
     "text": [
      "best epoch: 42, psnr: 38.61\n"
     ]
    },
    {
     "name": "stderr",
     "output_type": "stream",
     "text": [
      "epoch: 65/199: 100%|██████████| 18880/18880 [05:04<00:00, 65.45it/s, loss=0.000446]"
     ]
    },
    {
     "name": "stdout",
     "output_type": "stream",
     "text": [
      "eval psnr: 38.57\n"
     ]
    },
    {
     "name": "stderr",
     "output_type": "stream",
     "text": [
      "epoch: 65/199: 100%|██████████| 18880/18880 [05:16<00:00, 59.59it/s, loss=0.000446]\n"
     ]
    },
    {
     "name": "stdout",
     "output_type": "stream",
     "text": [
      "best epoch: 42, psnr: 38.61\n"
     ]
    },
    {
     "name": "stderr",
     "output_type": "stream",
     "text": [
      "epoch: 66/199: 100%|██████████| 18880/18880 [05:18<00:00, 63.25it/s, loss=0.000445]"
     ]
    },
    {
     "name": "stdout",
     "output_type": "stream",
     "text": [
      "eval psnr: 38.57\n"
     ]
    },
    {
     "name": "stderr",
     "output_type": "stream",
     "text": [
      "epoch: 66/199: 100%|██████████| 18880/18880 [05:25<00:00, 57.93it/s, loss=0.000445]\n"
     ]
    },
    {
     "name": "stdout",
     "output_type": "stream",
     "text": [
      "best epoch: 42, psnr: 38.61\n"
     ]
    },
    {
     "name": "stderr",
     "output_type": "stream",
     "text": [
      "epoch: 67/199: 100%|██████████| 18880/18880 [05:21<00:00, 62.01it/s, loss=0.000445]"
     ]
    },
    {
     "name": "stdout",
     "output_type": "stream",
     "text": [
      "eval psnr: 38.56\n"
     ]
    },
    {
     "name": "stderr",
     "output_type": "stream",
     "text": [
      "epoch: 67/199: 100%|██████████| 18880/18880 [05:29<00:00, 57.26it/s, loss=0.000445]\n"
     ]
    },
    {
     "name": "stdout",
     "output_type": "stream",
     "text": [
      "best epoch: 42, psnr: 38.61\n"
     ]
    },
    {
     "name": "stderr",
     "output_type": "stream",
     "text": [
      "epoch: 68/199: 100%|██████████| 18880/18880 [05:22<00:00, 62.35it/s, loss=0.000445]"
     ]
    },
    {
     "name": "stdout",
     "output_type": "stream",
     "text": [
      "eval psnr: 38.57\n"
     ]
    },
    {
     "name": "stderr",
     "output_type": "stream",
     "text": [
      "epoch: 68/199: 100%|██████████| 18880/18880 [05:29<00:00, 57.30it/s, loss=0.000445]\n"
     ]
    },
    {
     "name": "stdout",
     "output_type": "stream",
     "text": [
      "best epoch: 42, psnr: 38.61\n"
     ]
    },
    {
     "name": "stderr",
     "output_type": "stream",
     "text": [
      "epoch: 69/199: 100%|██████████| 18880/18880 [05:22<00:00, 62.24it/s, loss=0.000445]"
     ]
    },
    {
     "name": "stdout",
     "output_type": "stream",
     "text": [
      "eval psnr: 38.57\n"
     ]
    },
    {
     "name": "stderr",
     "output_type": "stream",
     "text": [
      "epoch: 69/199: 100%|██████████| 18880/18880 [05:30<00:00, 57.14it/s, loss=0.000445]\n"
     ]
    },
    {
     "name": "stdout",
     "output_type": "stream",
     "text": [
      "best epoch: 42, psnr: 38.61\n"
     ]
    },
    {
     "name": "stderr",
     "output_type": "stream",
     "text": [
      "epoch: 70/199: 100%|██████████| 18880/18880 [05:11<00:00, 66.06it/s, loss=0.000445]"
     ]
    },
    {
     "name": "stdout",
     "output_type": "stream",
     "text": [
      "eval psnr: 38.57\n",
      "reducing learning rate\n",
      "reducing unet learning rate\n"
     ]
    },
    {
     "name": "stderr",
     "output_type": "stream",
     "text": [
      "epoch: 70/199: 100%|██████████| 18880/18880 [05:20<00:00, 58.99it/s, loss=0.000445]\n"
     ]
    },
    {
     "name": "stdout",
     "output_type": "stream",
     "text": [
      "best epoch: 42, psnr: 38.61\n"
     ]
    },
    {
     "name": "stderr",
     "output_type": "stream",
     "text": [
      "epoch: 71/199: 100%|██████████| 18880/18880 [05:11<00:00, 62.10it/s, loss=0.000445]"
     ]
    },
    {
     "name": "stdout",
     "output_type": "stream",
     "text": [
      "eval psnr: 38.56\n"
     ]
    },
    {
     "name": "stderr",
     "output_type": "stream",
     "text": [
      "epoch: 71/199: 100%|██████████| 18880/18880 [05:26<00:00, 57.89it/s, loss=0.000445]\n"
     ]
    },
    {
     "name": "stdout",
     "output_type": "stream",
     "text": [
      "best epoch: 42, psnr: 38.61\n"
     ]
    },
    {
     "name": "stderr",
     "output_type": "stream",
     "text": [
      "epoch: 72/199: 100%|██████████| 18880/18880 [05:15<00:00, 62.14it/s, loss=0.000444]"
     ]
    },
    {
     "name": "stdout",
     "output_type": "stream",
     "text": [
      "eval psnr: 38.57\n"
     ]
    },
    {
     "name": "stderr",
     "output_type": "stream",
     "text": [
      "epoch: 72/199: 100%|██████████| 18880/18880 [05:26<00:00, 57.87it/s, loss=0.000444]\n"
     ]
    },
    {
     "name": "stdout",
     "output_type": "stream",
     "text": [
      "best epoch: 42, psnr: 38.61\n"
     ]
    },
    {
     "name": "stderr",
     "output_type": "stream",
     "text": [
      "epoch: 73/199: 100%|██████████| 18880/18880 [05:09<00:00, 65.95it/s, loss=0.000445]"
     ]
    },
    {
     "name": "stdout",
     "output_type": "stream",
     "text": [
      "eval psnr: 38.56\n"
     ]
    },
    {
     "name": "stderr",
     "output_type": "stream",
     "text": [
      "epoch: 73/199: 100%|██████████| 18880/18880 [05:14<00:00, 59.97it/s, loss=0.000445]\n"
     ]
    },
    {
     "name": "stdout",
     "output_type": "stream",
     "text": [
      "best epoch: 42, psnr: 38.61\n"
     ]
    },
    {
     "name": "stderr",
     "output_type": "stream",
     "text": [
      "epoch: 74/199: 100%|██████████| 18880/18880 [05:13<00:00, 63.30it/s, loss=0.000444]"
     ]
    },
    {
     "name": "stdout",
     "output_type": "stream",
     "text": [
      "eval psnr: 38.57\n"
     ]
    },
    {
     "name": "stderr",
     "output_type": "stream",
     "text": [
      "epoch: 74/199: 100%|██████████| 18880/18880 [05:28<00:00, 57.49it/s, loss=0.000444]\n"
     ]
    },
    {
     "name": "stdout",
     "output_type": "stream",
     "text": [
      "best epoch: 42, psnr: 38.61\n"
     ]
    },
    {
     "name": "stderr",
     "output_type": "stream",
     "text": [
      "epoch: 75/199: 100%|██████████| 18880/18880 [05:05<00:00, 64.90it/s, loss=0.000444]"
     ]
    },
    {
     "name": "stdout",
     "output_type": "stream",
     "text": [
      "eval psnr: 38.57\n"
     ]
    },
    {
     "name": "stderr",
     "output_type": "stream",
     "text": [
      "epoch: 75/199: 100%|██████████| 18880/18880 [05:13<00:00, 60.20it/s, loss=0.000444]\n"
     ]
    },
    {
     "name": "stdout",
     "output_type": "stream",
     "text": [
      "best epoch: 42, psnr: 38.61\n"
     ]
    },
    {
     "name": "stderr",
     "output_type": "stream",
     "text": [
      "epoch: 76/199: 100%|██████████| 18880/18880 [05:01<00:00, 65.38it/s, loss=0.000444]"
     ]
    },
    {
     "name": "stdout",
     "output_type": "stream",
     "text": [
      "eval psnr: 38.56\n"
     ]
    },
    {
     "name": "stderr",
     "output_type": "stream",
     "text": [
      "epoch: 76/199: 100%|██████████| 18880/18880 [05:15<00:00, 59.85it/s, loss=0.000444]\n"
     ]
    },
    {
     "name": "stdout",
     "output_type": "stream",
     "text": [
      "best epoch: 42, psnr: 38.61\n"
     ]
    },
    {
     "name": "stderr",
     "output_type": "stream",
     "text": [
      "epoch: 77/199: 100%|██████████| 18880/18880 [05:15<00:00, 61.40it/s, loss=0.000444]"
     ]
    },
    {
     "name": "stdout",
     "output_type": "stream",
     "text": [
      "eval psnr: 38.56\n",
      "reducing learning rate\n",
      "reducing unet learning rate\n"
     ]
    },
    {
     "name": "stderr",
     "output_type": "stream",
     "text": [
      "epoch: 77/199: 100%|██████████| 18880/18880 [05:29<00:00, 57.39it/s, loss=0.000444]\n"
     ]
    },
    {
     "name": "stdout",
     "output_type": "stream",
     "text": [
      "best epoch: 42, psnr: 38.61\n"
     ]
    },
    {
     "name": "stderr",
     "output_type": "stream",
     "text": [
      "epoch: 78/199: 100%|██████████| 18880/18880 [05:16<00:00, 63.31it/s, loss=0.000444]"
     ]
    },
    {
     "name": "stdout",
     "output_type": "stream",
     "text": [
      "eval psnr: 38.56\n"
     ]
    },
    {
     "name": "stderr",
     "output_type": "stream",
     "text": [
      "epoch: 78/199: 100%|██████████| 18880/18880 [05:29<00:00, 57.29it/s, loss=0.000444]\n"
     ]
    },
    {
     "name": "stdout",
     "output_type": "stream",
     "text": [
      "best epoch: 42, psnr: 38.61\n"
     ]
    },
    {
     "name": "stderr",
     "output_type": "stream",
     "text": [
      "epoch: 79/199: 100%|██████████| 18880/18880 [05:17<00:00, 61.08it/s, loss=0.000444]"
     ]
    },
    {
     "name": "stdout",
     "output_type": "stream",
     "text": [
      "eval psnr: 38.56\n"
     ]
    },
    {
     "name": "stderr",
     "output_type": "stream",
     "text": [
      "epoch: 79/199: 100%|██████████| 18880/18880 [05:28<00:00, 57.51it/s, loss=0.000444]\n"
     ]
    },
    {
     "name": "stdout",
     "output_type": "stream",
     "text": [
      "best epoch: 42, psnr: 38.61\n"
     ]
    },
    {
     "name": "stderr",
     "output_type": "stream",
     "text": [
      "epoch: 80/199: 100%|██████████| 18880/18880 [05:18<00:00, 62.45it/s, loss=0.000444]"
     ]
    },
    {
     "name": "stdout",
     "output_type": "stream",
     "text": [
      "eval psnr: 38.56\n"
     ]
    },
    {
     "name": "stderr",
     "output_type": "stream",
     "text": [
      "epoch: 80/199: 100%|██████████| 18880/18880 [05:25<00:00, 57.92it/s, loss=0.000444]\n"
     ]
    },
    {
     "name": "stdout",
     "output_type": "stream",
     "text": [
      "best epoch: 42, psnr: 38.61\n"
     ]
    },
    {
     "name": "stderr",
     "output_type": "stream",
     "text": [
      "epoch: 81/199: 100%|██████████| 18880/18880 [05:12<00:00, 63.95it/s, loss=0.000444]"
     ]
    },
    {
     "name": "stdout",
     "output_type": "stream",
     "text": [
      "eval psnr: 38.57\n"
     ]
    },
    {
     "name": "stderr",
     "output_type": "stream",
     "text": [
      "epoch: 81/199: 100%|██████████| 18880/18880 [05:21<00:00, 58.80it/s, loss=0.000444]\n"
     ]
    },
    {
     "name": "stdout",
     "output_type": "stream",
     "text": [
      "best epoch: 42, psnr: 38.61\n"
     ]
    },
    {
     "name": "stderr",
     "output_type": "stream",
     "text": [
      "epoch: 82/199: 100%|██████████| 18880/18880 [05:11<00:00, 64.29it/s, loss=0.000444]"
     ]
    },
    {
     "name": "stdout",
     "output_type": "stream",
     "text": [
      "eval psnr: 38.56\n"
     ]
    },
    {
     "name": "stderr",
     "output_type": "stream",
     "text": [
      "epoch: 82/199: 100%|██████████| 18880/18880 [05:18<00:00, 59.34it/s, loss=0.000444]\n"
     ]
    },
    {
     "name": "stdout",
     "output_type": "stream",
     "text": [
      "best epoch: 42, psnr: 38.61\n"
     ]
    },
    {
     "name": "stderr",
     "output_type": "stream",
     "text": [
      "epoch: 83/199: 100%|██████████| 18880/18880 [05:13<00:00, 64.76it/s, loss=0.000444]"
     ]
    },
    {
     "name": "stdout",
     "output_type": "stream",
     "text": [
      "eval psnr: 38.56\n"
     ]
    },
    {
     "name": "stderr",
     "output_type": "stream",
     "text": [
      "epoch: 83/199: 100%|██████████| 18880/18880 [05:19<00:00, 59.15it/s, loss=0.000444]\n"
     ]
    },
    {
     "name": "stdout",
     "output_type": "stream",
     "text": [
      "best epoch: 42, psnr: 38.61\n"
     ]
    },
    {
     "name": "stderr",
     "output_type": "stream",
     "text": [
      "epoch: 84/199: 100%|██████████| 18880/18880 [05:04<00:00, 65.97it/s, loss=0.000444]"
     ]
    },
    {
     "name": "stdout",
     "output_type": "stream",
     "text": [
      "eval psnr: 38.56\n",
      "reducing learning rate\n",
      "reducing unet learning rate\n"
     ]
    },
    {
     "name": "stderr",
     "output_type": "stream",
     "text": [
      "epoch: 84/199: 100%|██████████| 18880/18880 [05:18<00:00, 59.22it/s, loss=0.000444]\n"
     ]
    },
    {
     "name": "stdout",
     "output_type": "stream",
     "text": [
      "best epoch: 42, psnr: 38.61\n"
     ]
    },
    {
     "name": "stderr",
     "output_type": "stream",
     "text": [
      "epoch: 85/199: 100%|██████████| 18880/18880 [05:05<00:00, 64.73it/s, loss=0.000444]"
     ]
    },
    {
     "name": "stdout",
     "output_type": "stream",
     "text": [
      "eval psnr: 38.56\n"
     ]
    },
    {
     "name": "stderr",
     "output_type": "stream",
     "text": [
      "epoch: 85/199: 100%|██████████| 18880/18880 [05:18<00:00, 59.35it/s, loss=0.000444]\n"
     ]
    },
    {
     "name": "stdout",
     "output_type": "stream",
     "text": [
      "best epoch: 42, psnr: 38.61\n"
     ]
    },
    {
     "name": "stderr",
     "output_type": "stream",
     "text": [
      "epoch: 86/199: 100%|██████████| 18880/18880 [05:07<00:00, 64.57it/s, loss=0.000444]"
     ]
    },
    {
     "name": "stdout",
     "output_type": "stream",
     "text": [
      "eval psnr: 38.56\n"
     ]
    },
    {
     "name": "stderr",
     "output_type": "stream",
     "text": [
      "epoch: 86/199: 100%|██████████| 18880/18880 [05:20<00:00, 59.00it/s, loss=0.000444]\n"
     ]
    },
    {
     "name": "stdout",
     "output_type": "stream",
     "text": [
      "best epoch: 42, psnr: 38.61\n"
     ]
    },
    {
     "name": "stderr",
     "output_type": "stream",
     "text": [
      "epoch: 87/199: 100%|██████████| 18880/18880 [05:06<00:00, 63.77it/s, loss=0.000444]"
     ]
    },
    {
     "name": "stdout",
     "output_type": "stream",
     "text": [
      "eval psnr: 38.56\n"
     ]
    },
    {
     "name": "stderr",
     "output_type": "stream",
     "text": [
      "epoch: 87/199: 100%|██████████| 18880/18880 [05:20<00:00, 58.99it/s, loss=0.000444]\n"
     ]
    },
    {
     "name": "stdout",
     "output_type": "stream",
     "text": [
      "best epoch: 42, psnr: 38.61\n"
     ]
    },
    {
     "name": "stderr",
     "output_type": "stream",
     "text": [
      "epoch: 88/199: 100%|██████████| 18880/18880 [05:06<00:00, 63.53it/s, loss=0.000444]"
     ]
    },
    {
     "name": "stdout",
     "output_type": "stream",
     "text": [
      "eval psnr: 38.56\n"
     ]
    },
    {
     "name": "stderr",
     "output_type": "stream",
     "text": [
      "epoch: 88/199: 100%|██████████| 18880/18880 [05:19<00:00, 59.04it/s, loss=0.000444]\n"
     ]
    },
    {
     "name": "stdout",
     "output_type": "stream",
     "text": [
      "best epoch: 42, psnr: 38.61\n"
     ]
    },
    {
     "name": "stderr",
     "output_type": "stream",
     "text": [
      "epoch: 89/199: 100%|██████████| 18880/18880 [05:07<00:00, 64.10it/s, loss=0.000444]"
     ]
    },
    {
     "name": "stdout",
     "output_type": "stream",
     "text": [
      "eval psnr: 38.56\n"
     ]
    },
    {
     "name": "stderr",
     "output_type": "stream",
     "text": [
      "epoch: 89/199: 100%|██████████| 18880/18880 [05:16<00:00, 59.69it/s, loss=0.000444]\n"
     ]
    },
    {
     "name": "stdout",
     "output_type": "stream",
     "text": [
      "best epoch: 42, psnr: 38.61\n"
     ]
    },
    {
     "name": "stderr",
     "output_type": "stream",
     "text": [
      "epoch: 90/199: 100%|██████████| 18880/18880 [05:00<00:00, 65.32it/s, loss=0.000444]"
     ]
    },
    {
     "name": "stdout",
     "output_type": "stream",
     "text": [
      "eval psnr: 38.56\n"
     ]
    },
    {
     "name": "stderr",
     "output_type": "stream",
     "text": [
      "epoch: 90/199: 100%|██████████| 18880/18880 [05:15<00:00, 59.88it/s, loss=0.000444]\n"
     ]
    },
    {
     "name": "stdout",
     "output_type": "stream",
     "text": [
      "best epoch: 42, psnr: 38.61\n"
     ]
    },
    {
     "name": "stderr",
     "output_type": "stream",
     "text": [
      "epoch: 91/199: 100%|██████████| 18880/18880 [05:25<00:00, 60.97it/s, loss=0.000444]"
     ]
    },
    {
     "name": "stdout",
     "output_type": "stream",
     "text": [
      "eval psnr: 38.56\n",
      "reducing learning rate\n",
      "reducing unet learning rate\n"
     ]
    },
    {
     "name": "stderr",
     "output_type": "stream",
     "text": [
      "epoch: 91/199: 100%|██████████| 18880/18880 [05:33<00:00, 56.66it/s, loss=0.000444]\n"
     ]
    },
    {
     "name": "stdout",
     "output_type": "stream",
     "text": [
      "best epoch: 42, psnr: 38.61\n"
     ]
    },
    {
     "name": "stderr",
     "output_type": "stream",
     "text": [
      "epoch: 92/199: 100%|██████████| 18880/18880 [05:22<00:00, 59.10it/s, loss=0.000444]"
     ]
    },
    {
     "name": "stdout",
     "output_type": "stream",
     "text": [
      "eval psnr: 38.56\n"
     ]
    },
    {
     "name": "stderr",
     "output_type": "stream",
     "text": [
      "epoch: 92/199: 100%|██████████| 18880/18880 [05:34<00:00, 56.42it/s, loss=0.000444]\n"
     ]
    },
    {
     "name": "stdout",
     "output_type": "stream",
     "text": [
      "best epoch: 42, psnr: 38.61\n"
     ]
    },
    {
     "name": "stderr",
     "output_type": "stream",
     "text": [
      "epoch: 93/199: 100%|██████████| 18880/18880 [05:17<00:00, 60.10it/s, loss=0.000444]"
     ]
    },
    {
     "name": "stdout",
     "output_type": "stream",
     "text": [
      "eval psnr: 38.56\n"
     ]
    },
    {
     "name": "stderr",
     "output_type": "stream",
     "text": [
      "epoch: 93/199: 100%|██████████| 18880/18880 [05:31<00:00, 57.02it/s, loss=0.000444]\n"
     ]
    },
    {
     "name": "stdout",
     "output_type": "stream",
     "text": [
      "best epoch: 42, psnr: 38.61\n"
     ]
    },
    {
     "name": "stderr",
     "output_type": "stream",
     "text": [
      "epoch: 94/199: 100%|██████████| 18880/18880 [05:26<00:00, 61.54it/s, loss=0.000444]"
     ]
    },
    {
     "name": "stdout",
     "output_type": "stream",
     "text": [
      "eval psnr: 38.56\n"
     ]
    },
    {
     "name": "stderr",
     "output_type": "stream",
     "text": [
      "epoch: 94/199: 100%|██████████| 18880/18880 [05:33<00:00, 56.64it/s, loss=0.000444]\n"
     ]
    },
    {
     "name": "stdout",
     "output_type": "stream",
     "text": [
      "best epoch: 42, psnr: 38.61\n"
     ]
    },
    {
     "name": "stderr",
     "output_type": "stream",
     "text": [
      "epoch: 95/199: 100%|██████████| 18880/18880 [05:22<00:00, 61.60it/s, loss=0.000444]"
     ]
    },
    {
     "name": "stdout",
     "output_type": "stream",
     "text": [
      "eval psnr: 38.56\n"
     ]
    },
    {
     "name": "stderr",
     "output_type": "stream",
     "text": [
      "epoch: 95/199: 100%|██████████| 18880/18880 [05:33<00:00, 56.59it/s, loss=0.000444]\n"
     ]
    },
    {
     "name": "stdout",
     "output_type": "stream",
     "text": [
      "best epoch: 42, psnr: 38.61\n"
     ]
    },
    {
     "name": "stderr",
     "output_type": "stream",
     "text": [
      "epoch: 96/199: 100%|██████████| 18880/18880 [05:09<00:00, 64.62it/s, loss=0.000443]"
     ]
    },
    {
     "name": "stdout",
     "output_type": "stream",
     "text": [
      "eval psnr: 38.56\n"
     ]
    },
    {
     "name": "stderr",
     "output_type": "stream",
     "text": [
      "epoch: 96/199: 100%|██████████| 18880/18880 [05:17<00:00, 59.45it/s, loss=0.000443]\n"
     ]
    },
    {
     "name": "stdout",
     "output_type": "stream",
     "text": [
      "best epoch: 42, psnr: 38.61\n"
     ]
    },
    {
     "name": "stderr",
     "output_type": "stream",
     "text": [
      "epoch: 97/199: 100%|██████████| 18880/18880 [05:11<00:00, 64.95it/s, loss=0.000444]"
     ]
    },
    {
     "name": "stdout",
     "output_type": "stream",
     "text": [
      "eval psnr: 38.56\n"
     ]
    },
    {
     "name": "stderr",
     "output_type": "stream",
     "text": [
      "epoch: 97/199: 100%|██████████| 18880/18880 [05:17<00:00, 59.49it/s, loss=0.000444]\n"
     ]
    },
    {
     "name": "stdout",
     "output_type": "stream",
     "text": [
      "best epoch: 42, psnr: 38.61\n"
     ]
    },
    {
     "name": "stderr",
     "output_type": "stream",
     "text": [
      "epoch: 98/199: 100%|██████████| 18880/18880 [05:04<00:00, 64.82it/s, loss=0.000444]"
     ]
    },
    {
     "name": "stdout",
     "output_type": "stream",
     "text": [
      "eval psnr: 38.56\n",
      "reducing learning rate\n",
      "reducing unet learning rate\n"
     ]
    },
    {
     "name": "stderr",
     "output_type": "stream",
     "text": [
      "epoch: 98/199: 100%|██████████| 18880/18880 [05:17<00:00, 59.45it/s, loss=0.000444]\n"
     ]
    },
    {
     "name": "stdout",
     "output_type": "stream",
     "text": [
      "best epoch: 42, psnr: 38.61\n"
     ]
    },
    {
     "name": "stderr",
     "output_type": "stream",
     "text": [
      "epoch: 99/199: 100%|██████████| 18880/18880 [05:06<00:00, 64.76it/s, loss=0.000444]"
     ]
    },
    {
     "name": "stdout",
     "output_type": "stream",
     "text": [
      "eval psnr: 38.56\n"
     ]
    },
    {
     "name": "stderr",
     "output_type": "stream",
     "text": [
      "epoch: 99/199: 100%|██████████| 18880/18880 [05:19<00:00, 59.05it/s, loss=0.000444]\n"
     ]
    },
    {
     "name": "stdout",
     "output_type": "stream",
     "text": [
      "best epoch: 42, psnr: 38.61\n"
     ]
    },
    {
     "name": "stderr",
     "output_type": "stream",
     "text": [
      "epoch: 100/199: 100%|██████████| 18880/18880 [05:06<00:00, 64.26it/s, loss=0.000444]"
     ]
    },
    {
     "name": "stdout",
     "output_type": "stream",
     "text": [
      "eval psnr: 38.56\n"
     ]
    },
    {
     "name": "stderr",
     "output_type": "stream",
     "text": [
      "epoch: 100/199: 100%|██████████| 18880/18880 [05:19<00:00, 59.14it/s, loss=0.000444]\n"
     ]
    },
    {
     "name": "stdout",
     "output_type": "stream",
     "text": [
      "best epoch: 42, psnr: 38.61\n"
     ]
    },
    {
     "name": "stderr",
     "output_type": "stream",
     "text": [
      "epoch: 101/199: 100%|██████████| 18880/18880 [05:07<00:00, 65.39it/s, loss=0.000444]"
     ]
    },
    {
     "name": "stdout",
     "output_type": "stream",
     "text": [
      "eval psnr: 38.56\n"
     ]
    },
    {
     "name": "stderr",
     "output_type": "stream",
     "text": [
      "epoch: 101/199: 100%|██████████| 18880/18880 [05:16<00:00, 59.61it/s, loss=0.000444]\n"
     ]
    },
    {
     "name": "stdout",
     "output_type": "stream",
     "text": [
      "best epoch: 42, psnr: 38.61\n"
     ]
    },
    {
     "name": "stderr",
     "output_type": "stream",
     "text": [
      "epoch: 102/199: 100%|██████████| 18880/18880 [05:10<00:00, 64.45it/s, loss=0.000444]"
     ]
    },
    {
     "name": "stdout",
     "output_type": "stream",
     "text": [
      "eval psnr: 38.56\n"
     ]
    },
    {
     "name": "stderr",
     "output_type": "stream",
     "text": [
      "epoch: 102/199: 100%|██████████| 18880/18880 [05:17<00:00, 59.42it/s, loss=0.000444]\n"
     ]
    },
    {
     "name": "stdout",
     "output_type": "stream",
     "text": [
      "best epoch: 42, psnr: 38.61\n"
     ]
    },
    {
     "name": "stderr",
     "output_type": "stream",
     "text": [
      "epoch: 103/199: 100%|██████████| 18880/18880 [05:12<00:00, 64.35it/s, loss=0.000444]"
     ]
    },
    {
     "name": "stdout",
     "output_type": "stream",
     "text": [
      "eval psnr: 38.56\n"
     ]
    },
    {
     "name": "stderr",
     "output_type": "stream",
     "text": [
      "epoch: 103/199: 100%|██████████| 18880/18880 [05:19<00:00, 59.08it/s, loss=0.000444]\n"
     ]
    },
    {
     "name": "stdout",
     "output_type": "stream",
     "text": [
      "best epoch: 42, psnr: 38.61\n"
     ]
    },
    {
     "name": "stderr",
     "output_type": "stream",
     "text": [
      "epoch: 104/199: 100%|██████████| 18880/18880 [05:13<00:00, 64.34it/s, loss=0.000444]"
     ]
    },
    {
     "name": "stdout",
     "output_type": "stream",
     "text": [
      "eval psnr: 38.56\n"
     ]
    },
    {
     "name": "stderr",
     "output_type": "stream",
     "text": [
      "epoch: 104/199: 100%|██████████| 18880/18880 [05:18<00:00, 59.31it/s, loss=0.000444]\n"
     ]
    },
    {
     "name": "stdout",
     "output_type": "stream",
     "text": [
      "best epoch: 42, psnr: 38.61\n"
     ]
    },
    {
     "name": "stderr",
     "output_type": "stream",
     "text": [
      "epoch: 105/199: 100%|██████████| 18880/18880 [05:24<00:00, 60.12it/s, loss=0.000444]"
     ]
    },
    {
     "name": "stdout",
     "output_type": "stream",
     "text": [
      "eval psnr: 38.56\n",
      "reducing learning rate\n",
      "reducing unet learning rate\n"
     ]
    },
    {
     "name": "stderr",
     "output_type": "stream",
     "text": [
      "epoch: 105/199: 100%|██████████| 18880/18880 [05:35<00:00, 56.20it/s, loss=0.000444]\n"
     ]
    },
    {
     "name": "stdout",
     "output_type": "stream",
     "text": [
      "best epoch: 42, psnr: 38.61\n"
     ]
    },
    {
     "name": "stderr",
     "output_type": "stream",
     "text": [
      "epoch: 106/199: 100%|██████████| 18880/18880 [05:28<00:00, 60.28it/s, loss=0.000443]"
     ]
    },
    {
     "name": "stdout",
     "output_type": "stream",
     "text": [
      "eval psnr: 38.56\n"
     ]
    },
    {
     "name": "stderr",
     "output_type": "stream",
     "text": [
      "epoch: 106/199: 100%|██████████| 18880/18880 [05:35<00:00, 56.34it/s, loss=0.000443]\n"
     ]
    },
    {
     "name": "stdout",
     "output_type": "stream",
     "text": [
      "best epoch: 42, psnr: 38.61\n"
     ]
    },
    {
     "name": "stderr",
     "output_type": "stream",
     "text": [
      "epoch: 107/199: 100%|██████████| 18880/18880 [05:03<00:00, 65.49it/s, loss=0.000444]"
     ]
    },
    {
     "name": "stdout",
     "output_type": "stream",
     "text": [
      "eval psnr: 38.56\n"
     ]
    },
    {
     "name": "stderr",
     "output_type": "stream",
     "text": [
      "epoch: 107/199: 100%|██████████| 18880/18880 [05:15<00:00, 59.88it/s, loss=0.000444]\n"
     ]
    },
    {
     "name": "stdout",
     "output_type": "stream",
     "text": [
      "best epoch: 42, psnr: 38.61\n"
     ]
    },
    {
     "name": "stderr",
     "output_type": "stream",
     "text": [
      "epoch: 108/199: 100%|██████████| 18880/18880 [05:08<00:00, 64.12it/s, loss=0.000444]"
     ]
    },
    {
     "name": "stdout",
     "output_type": "stream",
     "text": [
      "eval psnr: 38.56\n"
     ]
    },
    {
     "name": "stderr",
     "output_type": "stream",
     "text": [
      "epoch: 108/199: 100%|██████████| 18880/18880 [05:15<00:00, 59.84it/s, loss=0.000444]\n"
     ]
    },
    {
     "name": "stdout",
     "output_type": "stream",
     "text": [
      "best epoch: 42, psnr: 38.61\n"
     ]
    },
    {
     "name": "stderr",
     "output_type": "stream",
     "text": [
      "epoch: 109/199: 100%|██████████| 18880/18880 [05:02<00:00, 65.04it/s, loss=0.000443]"
     ]
    },
    {
     "name": "stdout",
     "output_type": "stream",
     "text": [
      "eval psnr: 38.56\n"
     ]
    },
    {
     "name": "stderr",
     "output_type": "stream",
     "text": [
      "epoch: 109/199: 100%|██████████| 18880/18880 [05:14<00:00, 59.99it/s, loss=0.000443]\n"
     ]
    },
    {
     "name": "stdout",
     "output_type": "stream",
     "text": [
      "best epoch: 42, psnr: 38.61\n"
     ]
    },
    {
     "name": "stderr",
     "output_type": "stream",
     "text": [
      "epoch: 110/199: 100%|██████████| 18880/18880 [05:07<00:00, 66.16it/s, loss=0.000443]"
     ]
    },
    {
     "name": "stdout",
     "output_type": "stream",
     "text": [
      "eval psnr: 38.56\n"
     ]
    },
    {
     "name": "stderr",
     "output_type": "stream",
     "text": [
      "epoch: 110/199: 100%|██████████| 18880/18880 [05:13<00:00, 60.26it/s, loss=0.000443]\n"
     ]
    },
    {
     "name": "stdout",
     "output_type": "stream",
     "text": [
      "best epoch: 42, psnr: 38.61\n"
     ]
    },
    {
     "name": "stderr",
     "output_type": "stream",
     "text": [
      "epoch: 111/199: 100%|██████████| 18880/18880 [05:04<00:00, 64.26it/s, loss=0.000444]"
     ]
    },
    {
     "name": "stdout",
     "output_type": "stream",
     "text": [
      "eval psnr: 38.56\n"
     ]
    },
    {
     "name": "stderr",
     "output_type": "stream",
     "text": [
      "epoch: 111/199: 100%|██████████| 18880/18880 [05:18<00:00, 59.32it/s, loss=0.000444]\n"
     ]
    },
    {
     "name": "stdout",
     "output_type": "stream",
     "text": [
      "best epoch: 42, psnr: 38.61\n"
     ]
    },
    {
     "name": "stderr",
     "output_type": "stream",
     "text": [
      "epoch: 112/199: 100%|██████████| 18880/18880 [05:06<00:00, 65.38it/s, loss=0.000444]"
     ]
    },
    {
     "name": "stdout",
     "output_type": "stream",
     "text": [
      "eval psnr: 38.56\n",
      "reducing learning rate\n",
      "reducing unet learning rate\n"
     ]
    },
    {
     "name": "stderr",
     "output_type": "stream",
     "text": [
      "epoch: 112/199: 100%|██████████| 18880/18880 [05:19<00:00, 59.12it/s, loss=0.000444]\n"
     ]
    },
    {
     "name": "stdout",
     "output_type": "stream",
     "text": [
      "best epoch: 42, psnr: 38.61\n"
     ]
    },
    {
     "name": "stderr",
     "output_type": "stream",
     "text": [
      "epoch: 113/199: 100%|██████████| 18880/18880 [05:06<00:00, 64.36it/s, loss=0.000444]"
     ]
    },
    {
     "name": "stdout",
     "output_type": "stream",
     "text": [
      "eval psnr: 38.56\n"
     ]
    },
    {
     "name": "stderr",
     "output_type": "stream",
     "text": [
      "epoch: 113/199: 100%|██████████| 18880/18880 [05:18<00:00, 59.22it/s, loss=0.000444]\n"
     ]
    },
    {
     "name": "stdout",
     "output_type": "stream",
     "text": [
      "best epoch: 42, psnr: 38.61\n"
     ]
    },
    {
     "name": "stderr",
     "output_type": "stream",
     "text": [
      "epoch: 114/199: 100%|██████████| 18880/18880 [05:17<00:00, 62.82it/s, loss=0.000444]"
     ]
    },
    {
     "name": "stdout",
     "output_type": "stream",
     "text": [
      "eval psnr: 38.56\n"
     ]
    },
    {
     "name": "stderr",
     "output_type": "stream",
     "text": [
      "epoch: 114/199: 100%|██████████| 18880/18880 [05:29<00:00, 57.33it/s, loss=0.000444]\n"
     ]
    },
    {
     "name": "stdout",
     "output_type": "stream",
     "text": [
      "best epoch: 42, psnr: 38.61\n"
     ]
    },
    {
     "name": "stderr",
     "output_type": "stream",
     "text": [
      "epoch: 115/199: 100%|██████████| 18880/18880 [05:08<00:00, 65.20it/s, loss=0.000444]"
     ]
    },
    {
     "name": "stdout",
     "output_type": "stream",
     "text": [
      "eval psnr: 38.56\n"
     ]
    },
    {
     "name": "stderr",
     "output_type": "stream",
     "text": [
      "epoch: 115/199: 100%|██████████| 18880/18880 [05:18<00:00, 59.34it/s, loss=0.000444]\n"
     ]
    },
    {
     "name": "stdout",
     "output_type": "stream",
     "text": [
      "best epoch: 42, psnr: 38.61\n"
     ]
    },
    {
     "name": "stderr",
     "output_type": "stream",
     "text": [
      "epoch: 116/199: 100%|██████████| 18880/18880 [05:10<00:00, 65.24it/s, loss=0.000444]"
     ]
    },
    {
     "name": "stdout",
     "output_type": "stream",
     "text": [
      "eval psnr: 38.56\n"
     ]
    },
    {
     "name": "stderr",
     "output_type": "stream",
     "text": [
      "epoch: 116/199: 100%|██████████| 18880/18880 [05:16<00:00, 59.63it/s, loss=0.000444]\n"
     ]
    },
    {
     "name": "stdout",
     "output_type": "stream",
     "text": [
      "best epoch: 42, psnr: 38.61\n"
     ]
    },
    {
     "name": "stderr",
     "output_type": "stream",
     "text": [
      "epoch: 117/199: 100%|██████████| 18880/18880 [05:03<00:00, 65.37it/s, loss=0.000444]"
     ]
    },
    {
     "name": "stdout",
     "output_type": "stream",
     "text": [
      "eval psnr: 38.56\n"
     ]
    },
    {
     "name": "stderr",
     "output_type": "stream",
     "text": [
      "epoch: 117/199: 100%|██████████| 18880/18880 [05:17<00:00, 59.47it/s, loss=0.000444]\n"
     ]
    },
    {
     "name": "stdout",
     "output_type": "stream",
     "text": [
      "best epoch: 42, psnr: 38.61\n"
     ]
    },
    {
     "name": "stderr",
     "output_type": "stream",
     "text": [
      "epoch: 118/199: 100%|██████████| 18880/18880 [05:06<00:00, 64.85it/s, loss=0.000444]"
     ]
    },
    {
     "name": "stdout",
     "output_type": "stream",
     "text": [
      "eval psnr: 38.56\n"
     ]
    },
    {
     "name": "stderr",
     "output_type": "stream",
     "text": [
      "epoch: 118/199: 100%|██████████| 18880/18880 [05:18<00:00, 59.36it/s, loss=0.000444]\n"
     ]
    },
    {
     "name": "stdout",
     "output_type": "stream",
     "text": [
      "best epoch: 42, psnr: 38.61\n"
     ]
    },
    {
     "name": "stderr",
     "output_type": "stream",
     "text": [
      "epoch: 119/199: 100%|██████████| 18880/18880 [05:18<00:00, 63.72it/s, loss=0.000444]"
     ]
    },
    {
     "name": "stdout",
     "output_type": "stream",
     "text": [
      "eval psnr: 38.56\n",
      "reducing learning rate\n",
      "reducing unet learning rate\n"
     ]
    },
    {
     "name": "stderr",
     "output_type": "stream",
     "text": [
      "epoch: 119/199: 100%|██████████| 18880/18880 [05:33<00:00, 56.66it/s, loss=0.000444]\n"
     ]
    },
    {
     "name": "stdout",
     "output_type": "stream",
     "text": [
      "best epoch: 42, psnr: 38.61\n"
     ]
    },
    {
     "name": "stderr",
     "output_type": "stream",
     "text": [
      "epoch: 120/199: 100%|██████████| 18880/18880 [05:24<00:00, 60.54it/s, loss=0.000444]"
     ]
    },
    {
     "name": "stdout",
     "output_type": "stream",
     "text": [
      "eval psnr: 38.56\n"
     ]
    },
    {
     "name": "stderr",
     "output_type": "stream",
     "text": [
      "epoch: 120/199: 100%|██████████| 18880/18880 [05:32<00:00, 56.72it/s, loss=0.000444]\n"
     ]
    },
    {
     "name": "stdout",
     "output_type": "stream",
     "text": [
      "best epoch: 42, psnr: 38.61\n"
     ]
    },
    {
     "name": "stderr",
     "output_type": "stream",
     "text": [
      "epoch: 121/199: 100%|██████████| 18880/18880 [05:11<00:00, 64.28it/s, loss=0.000444]"
     ]
    },
    {
     "name": "stdout",
     "output_type": "stream",
     "text": [
      "eval psnr: 38.56\n"
     ]
    },
    {
     "name": "stderr",
     "output_type": "stream",
     "text": [
      "epoch: 121/199: 100%|██████████| 18880/18880 [05:17<00:00, 59.46it/s, loss=0.000444]\n"
     ]
    },
    {
     "name": "stdout",
     "output_type": "stream",
     "text": [
      "best epoch: 42, psnr: 38.61\n"
     ]
    },
    {
     "name": "stderr",
     "output_type": "stream",
     "text": [
      "epoch: 122/199: 100%|██████████| 18880/18880 [05:04<00:00, 64.80it/s, loss=0.000443]"
     ]
    },
    {
     "name": "stdout",
     "output_type": "stream",
     "text": [
      "eval psnr: 38.56\n"
     ]
    },
    {
     "name": "stderr",
     "output_type": "stream",
     "text": [
      "epoch: 122/199: 100%|██████████| 18880/18880 [05:18<00:00, 59.28it/s, loss=0.000443]\n"
     ]
    },
    {
     "name": "stdout",
     "output_type": "stream",
     "text": [
      "best epoch: 42, psnr: 38.61\n"
     ]
    },
    {
     "name": "stderr",
     "output_type": "stream",
     "text": [
      "epoch: 123/199: 100%|██████████| 18880/18880 [05:05<00:00, 64.70it/s, loss=0.000443]"
     ]
    },
    {
     "name": "stdout",
     "output_type": "stream",
     "text": [
      "eval psnr: 38.56\n"
     ]
    },
    {
     "name": "stderr",
     "output_type": "stream",
     "text": [
      "epoch: 123/199: 100%|██████████| 18880/18880 [05:18<00:00, 59.21it/s, loss=0.000443]\n"
     ]
    },
    {
     "name": "stdout",
     "output_type": "stream",
     "text": [
      "best epoch: 42, psnr: 38.61\n"
     ]
    },
    {
     "name": "stderr",
     "output_type": "stream",
     "text": [
      "epoch: 124/199: 100%|██████████| 18880/18880 [05:16<00:00, 60.19it/s, loss=0.000444]"
     ]
    },
    {
     "name": "stdout",
     "output_type": "stream",
     "text": [
      "eval psnr: 38.56\n"
     ]
    },
    {
     "name": "stderr",
     "output_type": "stream",
     "text": [
      "epoch: 124/199: 100%|██████████| 18880/18880 [05:27<00:00, 57.69it/s, loss=0.000444]\n"
     ]
    },
    {
     "name": "stdout",
     "output_type": "stream",
     "text": [
      "best epoch: 42, psnr: 38.61\n"
     ]
    },
    {
     "name": "stderr",
     "output_type": "stream",
     "text": [
      "epoch: 125/199: 100%|██████████| 18880/18880 [05:29<00:00, 61.28it/s, loss=0.000444]"
     ]
    },
    {
     "name": "stdout",
     "output_type": "stream",
     "text": [
      "eval psnr: 38.56\n"
     ]
    },
    {
     "name": "stderr",
     "output_type": "stream",
     "text": [
      "epoch: 125/199: 100%|██████████| 18880/18880 [05:35<00:00, 56.22it/s, loss=0.000444]\n"
     ]
    },
    {
     "name": "stdout",
     "output_type": "stream",
     "text": [
      "best epoch: 42, psnr: 38.61\n"
     ]
    },
    {
     "name": "stderr",
     "output_type": "stream",
     "text": [
      "epoch: 126/199: 100%|██████████| 18880/18880 [05:13<00:00, 63.60it/s, loss=0.000444]"
     ]
    },
    {
     "name": "stdout",
     "output_type": "stream",
     "text": [
      "eval psnr: 38.56\n",
      "reducing learning rate\n",
      "reducing unet learning rate\n"
     ]
    },
    {
     "name": "stderr",
     "output_type": "stream",
     "text": [
      "epoch: 126/199: 100%|██████████| 18880/18880 [05:20<00:00, 58.97it/s, loss=0.000444]\n"
     ]
    },
    {
     "name": "stdout",
     "output_type": "stream",
     "text": [
      "best epoch: 42, psnr: 38.61\n"
     ]
    },
    {
     "name": "stderr",
     "output_type": "stream",
     "text": [
      "epoch: 127/199: 100%|██████████| 18880/18880 [05:23<00:00, 61.92it/s, loss=0.000444]"
     ]
    },
    {
     "name": "stdout",
     "output_type": "stream",
     "text": [
      "eval psnr: 38.56\n"
     ]
    },
    {
     "name": "stderr",
     "output_type": "stream",
     "text": [
      "epoch: 127/199: 100%|██████████| 18880/18880 [05:32<00:00, 56.86it/s, loss=0.000444]\n"
     ]
    },
    {
     "name": "stdout",
     "output_type": "stream",
     "text": [
      "best epoch: 42, psnr: 38.61\n"
     ]
    },
    {
     "name": "stderr",
     "output_type": "stream",
     "text": [
      "epoch: 128/199: 100%|██████████| 18880/18880 [05:21<00:00, 61.14it/s, loss=0.000443]"
     ]
    },
    {
     "name": "stdout",
     "output_type": "stream",
     "text": [
      "eval psnr: 38.56\n"
     ]
    },
    {
     "name": "stderr",
     "output_type": "stream",
     "text": [
      "epoch: 128/199: 100%|██████████| 18880/18880 [05:31<00:00, 56.95it/s, loss=0.000443]\n"
     ]
    },
    {
     "name": "stdout",
     "output_type": "stream",
     "text": [
      "best epoch: 42, psnr: 38.61\n"
     ]
    },
    {
     "name": "stderr",
     "output_type": "stream",
     "text": [
      "epoch: 129/199: 100%|██████████| 18880/18880 [05:09<00:00, 64.77it/s, loss=0.000443]"
     ]
    },
    {
     "name": "stdout",
     "output_type": "stream",
     "text": [
      "eval psnr: 38.56\n"
     ]
    },
    {
     "name": "stderr",
     "output_type": "stream",
     "text": [
      "epoch: 129/199: 100%|██████████| 18880/18880 [05:17<00:00, 59.46it/s, loss=0.000443]\n"
     ]
    },
    {
     "name": "stdout",
     "output_type": "stream",
     "text": [
      "best epoch: 42, psnr: 38.61\n"
     ]
    },
    {
     "name": "stderr",
     "output_type": "stream",
     "text": [
      "epoch: 130/199: 100%|██████████| 18880/18880 [05:02<00:00, 64.92it/s, loss=0.000443]"
     ]
    },
    {
     "name": "stdout",
     "output_type": "stream",
     "text": [
      "eval psnr: 38.56\n"
     ]
    },
    {
     "name": "stderr",
     "output_type": "stream",
     "text": [
      "epoch: 130/199: 100%|██████████| 18880/18880 [05:15<00:00, 59.78it/s, loss=0.000443]\n"
     ]
    },
    {
     "name": "stdout",
     "output_type": "stream",
     "text": [
      "best epoch: 42, psnr: 38.61\n"
     ]
    },
    {
     "name": "stderr",
     "output_type": "stream",
     "text": [
      "epoch: 131/199: 100%|██████████| 18880/18880 [05:06<00:00, 65.06it/s, loss=0.000444]"
     ]
    },
    {
     "name": "stdout",
     "output_type": "stream",
     "text": [
      "eval psnr: 38.56\n"
     ]
    },
    {
     "name": "stderr",
     "output_type": "stream",
     "text": [
      "epoch: 131/199: 100%|██████████| 18880/18880 [05:15<00:00, 59.91it/s, loss=0.000444]\n"
     ]
    },
    {
     "name": "stdout",
     "output_type": "stream",
     "text": [
      "best epoch: 42, psnr: 38.61\n"
     ]
    },
    {
     "name": "stderr",
     "output_type": "stream",
     "text": [
      "epoch: 132/199: 100%|██████████| 18880/18880 [05:01<00:00, 66.27it/s, loss=0.000443]"
     ]
    },
    {
     "name": "stdout",
     "output_type": "stream",
     "text": [
      "eval psnr: 38.56\n"
     ]
    },
    {
     "name": "stderr",
     "output_type": "stream",
     "text": [
      "epoch: 132/199: 100%|██████████| 18880/18880 [05:14<00:00, 60.08it/s, loss=0.000443]\n"
     ]
    },
    {
     "name": "stdout",
     "output_type": "stream",
     "text": [
      "best epoch: 42, psnr: 38.61\n"
     ]
    },
    {
     "name": "stderr",
     "output_type": "stream",
     "text": [
      "epoch: 133/199: 100%|██████████| 18880/18880 [05:06<00:00, 65.80it/s, loss=0.000444]"
     ]
    },
    {
     "name": "stdout",
     "output_type": "stream",
     "text": [
      "eval psnr: 38.56\n",
      "reducing learning rate\n",
      "reducing unet learning rate\n"
     ]
    },
    {
     "name": "stderr",
     "output_type": "stream",
     "text": [
      "epoch: 133/199: 100%|██████████| 18880/18880 [05:14<00:00, 60.11it/s, loss=0.000444]\n"
     ]
    },
    {
     "name": "stdout",
     "output_type": "stream",
     "text": [
      "best epoch: 42, psnr: 38.61\n"
     ]
    },
    {
     "name": "stderr",
     "output_type": "stream",
     "text": [
      "epoch: 134/199: 100%|██████████| 18880/18880 [05:22<00:00, 60.27it/s, loss=0.000443]"
     ]
    },
    {
     "name": "stdout",
     "output_type": "stream",
     "text": [
      "eval psnr: 38.56\n"
     ]
    },
    {
     "name": "stderr",
     "output_type": "stream",
     "text": [
      "epoch: 134/199: 100%|██████████| 18880/18880 [05:37<00:00, 56.01it/s, loss=0.000443]\n"
     ]
    },
    {
     "name": "stdout",
     "output_type": "stream",
     "text": [
      "best epoch: 42, psnr: 38.61\n"
     ]
    },
    {
     "name": "stderr",
     "output_type": "stream",
     "text": [
      "epoch: 135/199: 100%|██████████| 18880/18880 [05:05<00:00, 65.41it/s, loss=0.000444]"
     ]
    },
    {
     "name": "stdout",
     "output_type": "stream",
     "text": [
      "eval psnr: 38.56\n"
     ]
    },
    {
     "name": "stderr",
     "output_type": "stream",
     "text": [
      "epoch: 135/199: 100%|██████████| 18880/18880 [05:15<00:00, 59.89it/s, loss=0.000444]\n"
     ]
    },
    {
     "name": "stdout",
     "output_type": "stream",
     "text": [
      "best epoch: 42, psnr: 38.61\n"
     ]
    },
    {
     "name": "stderr",
     "output_type": "stream",
     "text": [
      "epoch: 136/199: 100%|██████████| 18880/18880 [05:00<00:00, 65.12it/s, loss=0.000444]"
     ]
    },
    {
     "name": "stdout",
     "output_type": "stream",
     "text": [
      "eval psnr: 38.56\n"
     ]
    },
    {
     "name": "stderr",
     "output_type": "stream",
     "text": [
      "epoch: 136/199: 100%|██████████| 18880/18880 [05:14<00:00, 60.05it/s, loss=0.000444]\n"
     ]
    },
    {
     "name": "stdout",
     "output_type": "stream",
     "text": [
      "best epoch: 42, psnr: 38.61\n"
     ]
    },
    {
     "name": "stderr",
     "output_type": "stream",
     "text": [
      "epoch: 137/199: 100%|██████████| 18880/18880 [05:25<00:00, 59.61it/s, loss=0.000444]"
     ]
    },
    {
     "name": "stdout",
     "output_type": "stream",
     "text": [
      "eval psnr: 38.56\n"
     ]
    },
    {
     "name": "stderr",
     "output_type": "stream",
     "text": [
      "epoch: 137/199: 100%|██████████| 18880/18880 [05:31<00:00, 56.93it/s, loss=0.000444]\n"
     ]
    },
    {
     "name": "stdout",
     "output_type": "stream",
     "text": [
      "best epoch: 42, psnr: 38.61\n"
     ]
    },
    {
     "name": "stderr",
     "output_type": "stream",
     "text": [
      "epoch: 138/199: 100%|██████████| 18880/18880 [05:14<00:00, 64.48it/s, loss=0.000444]"
     ]
    },
    {
     "name": "stdout",
     "output_type": "stream",
     "text": [
      "eval psnr: 38.56\n"
     ]
    },
    {
     "name": "stderr",
     "output_type": "stream",
     "text": [
      "epoch: 138/199: 100%|██████████| 18880/18880 [05:19<00:00, 59.06it/s, loss=0.000444]\n"
     ]
    },
    {
     "name": "stdout",
     "output_type": "stream",
     "text": [
      "best epoch: 42, psnr: 38.61\n"
     ]
    },
    {
     "name": "stderr",
     "output_type": "stream",
     "text": [
      "epoch: 139/199: 100%|██████████| 18880/18880 [05:04<00:00, 65.29it/s, loss=0.000443]"
     ]
    },
    {
     "name": "stdout",
     "output_type": "stream",
     "text": [
      "eval psnr: 38.56\n"
     ]
    },
    {
     "name": "stderr",
     "output_type": "stream",
     "text": [
      "epoch: 139/199: 100%|██████████| 18880/18880 [05:18<00:00, 59.29it/s, loss=0.000443]\n"
     ]
    },
    {
     "name": "stdout",
     "output_type": "stream",
     "text": [
      "best epoch: 42, psnr: 38.61\n"
     ]
    },
    {
     "name": "stderr",
     "output_type": "stream",
     "text": [
      "epoch: 140/199: 100%|██████████| 18880/18880 [05:06<00:00, 64.22it/s, loss=0.000443]"
     ]
    },
    {
     "name": "stdout",
     "output_type": "stream",
     "text": [
      "eval psnr: 38.56\n",
      "reducing learning rate\n",
      "reducing unet learning rate\n"
     ]
    },
    {
     "name": "stderr",
     "output_type": "stream",
     "text": [
      "epoch: 140/199: 100%|██████████| 18880/18880 [05:18<00:00, 59.23it/s, loss=0.000443]\n"
     ]
    },
    {
     "name": "stdout",
     "output_type": "stream",
     "text": [
      "best epoch: 42, psnr: 38.61\n"
     ]
    },
    {
     "name": "stderr",
     "output_type": "stream",
     "text": [
      "epoch: 141/199: 100%|██████████| 18880/18880 [05:17<00:00, 60.18it/s, loss=0.000444]"
     ]
    },
    {
     "name": "stdout",
     "output_type": "stream",
     "text": [
      "eval psnr: 38.56\n"
     ]
    },
    {
     "name": "stderr",
     "output_type": "stream",
     "text": [
      "epoch: 141/199: 100%|██████████| 18880/18880 [05:32<00:00, 56.83it/s, loss=0.000444]\n"
     ]
    },
    {
     "name": "stdout",
     "output_type": "stream",
     "text": [
      "best epoch: 42, psnr: 38.61\n"
     ]
    },
    {
     "name": "stderr",
     "output_type": "stream",
     "text": [
      "epoch: 142/199: 100%|██████████| 18880/18880 [05:05<00:00, 65.47it/s, loss=0.000444]"
     ]
    },
    {
     "name": "stdout",
     "output_type": "stream",
     "text": [
      "eval psnr: 38.56\n"
     ]
    },
    {
     "name": "stderr",
     "output_type": "stream",
     "text": [
      "epoch: 142/199: 100%|██████████| 18880/18880 [05:20<00:00, 58.89it/s, loss=0.000444]\n"
     ]
    },
    {
     "name": "stdout",
     "output_type": "stream",
     "text": [
      "best epoch: 42, psnr: 38.61\n"
     ]
    },
    {
     "name": "stderr",
     "output_type": "stream",
     "text": [
      "epoch: 143/199: 100%|██████████| 18880/18880 [05:04<00:00, 64.71it/s, loss=0.000444]"
     ]
    },
    {
     "name": "stdout",
     "output_type": "stream",
     "text": [
      "eval psnr: 38.56\n"
     ]
    },
    {
     "name": "stderr",
     "output_type": "stream",
     "text": [
      "epoch: 143/199: 100%|██████████| 18880/18880 [05:18<00:00, 59.26it/s, loss=0.000444]\n"
     ]
    },
    {
     "name": "stdout",
     "output_type": "stream",
     "text": [
      "best epoch: 42, psnr: 38.61\n"
     ]
    },
    {
     "name": "stderr",
     "output_type": "stream",
     "text": [
      "epoch: 144/199: 100%|██████████| 18880/18880 [05:26<00:00, 60.60it/s, loss=0.000444]"
     ]
    },
    {
     "name": "stdout",
     "output_type": "stream",
     "text": [
      "eval psnr: 38.56\n"
     ]
    },
    {
     "name": "stderr",
     "output_type": "stream",
     "text": [
      "epoch: 144/199: 100%|██████████| 18880/18880 [05:38<00:00, 55.83it/s, loss=0.000444]\n"
     ]
    },
    {
     "name": "stdout",
     "output_type": "stream",
     "text": [
      "best epoch: 42, psnr: 38.61\n"
     ]
    },
    {
     "name": "stderr",
     "output_type": "stream",
     "text": [
      "epoch: 145/199: 100%|██████████| 18880/18880 [05:28<00:00, 59.21it/s, loss=0.000444]"
     ]
    },
    {
     "name": "stdout",
     "output_type": "stream",
     "text": [
      "eval psnr: 38.56\n"
     ]
    },
    {
     "name": "stderr",
     "output_type": "stream",
     "text": [
      "epoch: 145/199: 100%|██████████| 18880/18880 [05:33<00:00, 56.58it/s, loss=0.000444]\n"
     ]
    },
    {
     "name": "stdout",
     "output_type": "stream",
     "text": [
      "best epoch: 42, psnr: 38.61\n"
     ]
    },
    {
     "name": "stderr",
     "output_type": "stream",
     "text": [
      "epoch: 146/199: 100%|██████████| 18880/18880 [05:14<00:00, 62.27it/s, loss=0.000444]"
     ]
    },
    {
     "name": "stdout",
     "output_type": "stream",
     "text": [
      "eval psnr: 38.56\n"
     ]
    },
    {
     "name": "stderr",
     "output_type": "stream",
     "text": [
      "epoch: 146/199: 100%|██████████| 18880/18880 [05:27<00:00, 57.62it/s, loss=0.000444]\n"
     ]
    },
    {
     "name": "stdout",
     "output_type": "stream",
     "text": [
      "best epoch: 42, psnr: 38.61\n"
     ]
    },
    {
     "name": "stderr",
     "output_type": "stream",
     "text": [
      "epoch: 147/199: 100%|██████████| 18880/18880 [05:27<00:00, 61.54it/s, loss=0.000444]"
     ]
    },
    {
     "name": "stdout",
     "output_type": "stream",
     "text": [
      "eval psnr: 38.56\n",
      "reducing learning rate\n",
      "reducing unet learning rate\n"
     ]
    },
    {
     "name": "stderr",
     "output_type": "stream",
     "text": [
      "epoch: 147/199: 100%|██████████| 18880/18880 [05:34<00:00, 56.50it/s, loss=0.000444]\n"
     ]
    },
    {
     "name": "stdout",
     "output_type": "stream",
     "text": [
      "best epoch: 42, psnr: 38.61\n"
     ]
    },
    {
     "name": "stderr",
     "output_type": "stream",
     "text": [
      "epoch: 148/199: 100%|██████████| 18880/18880 [05:22<00:00, 59.22it/s, loss=0.000444]"
     ]
    },
    {
     "name": "stdout",
     "output_type": "stream",
     "text": [
      "eval psnr: 38.56\n"
     ]
    },
    {
     "name": "stderr",
     "output_type": "stream",
     "text": [
      "epoch: 148/199: 100%|██████████| 18880/18880 [05:33<00:00, 56.61it/s, loss=0.000444]\n"
     ]
    },
    {
     "name": "stdout",
     "output_type": "stream",
     "text": [
      "best epoch: 42, psnr: 38.61\n"
     ]
    },
    {
     "name": "stderr",
     "output_type": "stream",
     "text": [
      "epoch: 149/199: 100%|██████████| 18880/18880 [05:19<00:00, 61.77it/s, loss=0.000443]"
     ]
    },
    {
     "name": "stdout",
     "output_type": "stream",
     "text": [
      "eval psnr: 38.56\n"
     ]
    },
    {
     "name": "stderr",
     "output_type": "stream",
     "text": [
      "epoch: 149/199: 100%|██████████| 18880/18880 [05:33<00:00, 56.62it/s, loss=0.000443]\n"
     ]
    },
    {
     "name": "stdout",
     "output_type": "stream",
     "text": [
      "best epoch: 42, psnr: 38.61\n"
     ]
    },
    {
     "name": "stderr",
     "output_type": "stream",
     "text": [
      "epoch: 150/199: 100%|██████████| 18880/18880 [05:25<00:00, 62.80it/s, loss=0.000444]"
     ]
    },
    {
     "name": "stdout",
     "output_type": "stream",
     "text": [
      "eval psnr: 38.56\n"
     ]
    },
    {
     "name": "stderr",
     "output_type": "stream",
     "text": [
      "epoch: 150/199: 100%|██████████| 18880/18880 [05:32<00:00, 56.71it/s, loss=0.000444]\n"
     ]
    },
    {
     "name": "stdout",
     "output_type": "stream",
     "text": [
      "best epoch: 42, psnr: 38.61\n"
     ]
    },
    {
     "name": "stderr",
     "output_type": "stream",
     "text": [
      "epoch: 151/199: 100%|██████████| 18880/18880 [05:12<00:00, 63.55it/s, loss=0.000444]"
     ]
    },
    {
     "name": "stdout",
     "output_type": "stream",
     "text": [
      "eval psnr: 38.56\n"
     ]
    },
    {
     "name": "stderr",
     "output_type": "stream",
     "text": [
      "epoch: 151/199: 100%|██████████| 18880/18880 [05:21<00:00, 58.81it/s, loss=0.000444]\n"
     ]
    },
    {
     "name": "stdout",
     "output_type": "stream",
     "text": [
      "best epoch: 42, psnr: 38.61\n"
     ]
    },
    {
     "name": "stderr",
     "output_type": "stream",
     "text": [
      "epoch: 152/199: 100%|██████████| 18880/18880 [05:21<00:00, 60.27it/s, loss=0.000444]"
     ]
    },
    {
     "name": "stdout",
     "output_type": "stream",
     "text": [
      "eval psnr: 38.56\n"
     ]
    },
    {
     "name": "stderr",
     "output_type": "stream",
     "text": [
      "epoch: 152/199: 100%|██████████| 18880/18880 [05:34<00:00, 56.43it/s, loss=0.000444]\n"
     ]
    },
    {
     "name": "stdout",
     "output_type": "stream",
     "text": [
      "best epoch: 42, psnr: 38.61\n"
     ]
    },
    {
     "name": "stderr",
     "output_type": "stream",
     "text": [
      "epoch: 153/199: 100%|██████████| 18880/18880 [05:27<00:00, 62.72it/s, loss=0.000444]"
     ]
    },
    {
     "name": "stdout",
     "output_type": "stream",
     "text": [
      "eval psnr: 38.56\n"
     ]
    },
    {
     "name": "stderr",
     "output_type": "stream",
     "text": [
      "epoch: 153/199: 100%|██████████| 18880/18880 [05:32<00:00, 56.70it/s, loss=0.000444]\n"
     ]
    },
    {
     "name": "stdout",
     "output_type": "stream",
     "text": [
      "best epoch: 42, psnr: 38.61\n"
     ]
    },
    {
     "name": "stderr",
     "output_type": "stream",
     "text": [
      "epoch: 154/199: 100%|██████████| 18880/18880 [05:24<00:00, 60.91it/s, loss=0.000444]"
     ]
    },
    {
     "name": "stdout",
     "output_type": "stream",
     "text": [
      "eval psnr: 38.56\n",
      "reducing learning rate\n",
      "reducing unet learning rate\n"
     ]
    },
    {
     "name": "stderr",
     "output_type": "stream",
     "text": [
      "epoch: 154/199: 100%|██████████| 18880/18880 [05:33<00:00, 56.56it/s, loss=0.000444]\n"
     ]
    },
    {
     "name": "stdout",
     "output_type": "stream",
     "text": [
      "best epoch: 42, psnr: 38.61\n"
     ]
    },
    {
     "name": "stderr",
     "output_type": "stream",
     "text": [
      "epoch: 155/199: 100%|██████████| 18880/18880 [05:10<00:00, 64.60it/s, loss=0.000443]"
     ]
    },
    {
     "name": "stdout",
     "output_type": "stream",
     "text": [
      "eval psnr: 38.56\n"
     ]
    },
    {
     "name": "stderr",
     "output_type": "stream",
     "text": [
      "epoch: 155/199: 100%|██████████| 18880/18880 [05:15<00:00, 59.78it/s, loss=0.000443]\n"
     ]
    },
    {
     "name": "stdout",
     "output_type": "stream",
     "text": [
      "best epoch: 42, psnr: 38.61\n"
     ]
    },
    {
     "name": "stderr",
     "output_type": "stream",
     "text": [
      "epoch: 156/199: 100%|██████████| 18880/18880 [05:04<00:00, 65.37it/s, loss=0.000444]"
     ]
    },
    {
     "name": "stdout",
     "output_type": "stream",
     "text": [
      "eval psnr: 38.56\n"
     ]
    },
    {
     "name": "stderr",
     "output_type": "stream",
     "text": [
      "epoch: 156/199: 100%|██████████| 18880/18880 [05:16<00:00, 59.64it/s, loss=0.000444]\n"
     ]
    },
    {
     "name": "stdout",
     "output_type": "stream",
     "text": [
      "best epoch: 42, psnr: 38.61\n"
     ]
    },
    {
     "name": "stderr",
     "output_type": "stream",
     "text": [
      "epoch: 157/199: 100%|██████████| 18880/18880 [05:07<00:00, 64.76it/s, loss=0.000444]"
     ]
    },
    {
     "name": "stdout",
     "output_type": "stream",
     "text": [
      "eval psnr: 38.56\n"
     ]
    },
    {
     "name": "stderr",
     "output_type": "stream",
     "text": [
      "epoch: 157/199: 100%|██████████| 18880/18880 [05:16<00:00, 59.68it/s, loss=0.000444]\n"
     ]
    },
    {
     "name": "stdout",
     "output_type": "stream",
     "text": [
      "best epoch: 42, psnr: 38.61\n"
     ]
    },
    {
     "name": "stderr",
     "output_type": "stream",
     "text": [
      "epoch: 158/199: 100%|██████████| 18880/18880 [05:11<00:00, 65.30it/s, loss=0.000444]"
     ]
    },
    {
     "name": "stdout",
     "output_type": "stream",
     "text": [
      "eval psnr: 38.56\n"
     ]
    },
    {
     "name": "stderr",
     "output_type": "stream",
     "text": [
      "epoch: 158/199: 100%|██████████| 18880/18880 [05:17<00:00, 59.40it/s, loss=0.000444]\n"
     ]
    },
    {
     "name": "stdout",
     "output_type": "stream",
     "text": [
      "best epoch: 42, psnr: 38.61\n"
     ]
    },
    {
     "name": "stderr",
     "output_type": "stream",
     "text": [
      "epoch: 159/199: 100%|██████████| 18880/18880 [05:03<00:00, 64.93it/s, loss=0.000444]"
     ]
    },
    {
     "name": "stdout",
     "output_type": "stream",
     "text": [
      "eval psnr: 38.56\n"
     ]
    },
    {
     "name": "stderr",
     "output_type": "stream",
     "text": [
      "epoch: 159/199: 100%|██████████| 18880/18880 [05:15<00:00, 59.76it/s, loss=0.000444]\n"
     ]
    },
    {
     "name": "stdout",
     "output_type": "stream",
     "text": [
      "best epoch: 42, psnr: 38.61\n"
     ]
    },
    {
     "name": "stderr",
     "output_type": "stream",
     "text": [
      "epoch: 160/199: 100%|██████████| 18880/18880 [05:07<00:00, 64.98it/s, loss=0.000444]"
     ]
    },
    {
     "name": "stdout",
     "output_type": "stream",
     "text": [
      "eval psnr: 38.56\n"
     ]
    },
    {
     "name": "stderr",
     "output_type": "stream",
     "text": [
      "epoch: 160/199: 100%|██████████| 18880/18880 [05:18<00:00, 59.31it/s, loss=0.000444]\n"
     ]
    },
    {
     "name": "stdout",
     "output_type": "stream",
     "text": [
      "best epoch: 42, psnr: 38.61\n"
     ]
    },
    {
     "name": "stderr",
     "output_type": "stream",
     "text": [
      "epoch: 161/199: 100%|██████████| 18880/18880 [05:09<00:00, 64.88it/s, loss=0.000444]"
     ]
    },
    {
     "name": "stdout",
     "output_type": "stream",
     "text": [
      "eval psnr: 38.56\n",
      "reducing learning rate\n",
      "reducing unet learning rate\n"
     ]
    },
    {
     "name": "stderr",
     "output_type": "stream",
     "text": [
      "epoch: 161/199: 100%|██████████| 18880/18880 [05:16<00:00, 59.57it/s, loss=0.000444]\n"
     ]
    },
    {
     "name": "stdout",
     "output_type": "stream",
     "text": [
      "best epoch: 42, psnr: 38.61\n"
     ]
    },
    {
     "name": "stderr",
     "output_type": "stream",
     "text": [
      "epoch: 162/199: 100%|██████████| 18880/18880 [05:02<00:00, 65.23it/s, loss=0.000444]"
     ]
    },
    {
     "name": "stdout",
     "output_type": "stream",
     "text": [
      "eval psnr: 38.56\n"
     ]
    },
    {
     "name": "stderr",
     "output_type": "stream",
     "text": [
      "epoch: 162/199: 100%|██████████| 18880/18880 [05:17<00:00, 59.54it/s, loss=0.000444]\n"
     ]
    },
    {
     "name": "stdout",
     "output_type": "stream",
     "text": [
      "best epoch: 42, psnr: 38.61\n"
     ]
    },
    {
     "name": "stderr",
     "output_type": "stream",
     "text": [
      "epoch: 163/199: 100%|██████████| 18880/18880 [05:04<00:00, 65.60it/s, loss=0.000444]"
     ]
    },
    {
     "name": "stdout",
     "output_type": "stream",
     "text": [
      "eval psnr: 38.56\n"
     ]
    },
    {
     "name": "stderr",
     "output_type": "stream",
     "text": [
      "epoch: 163/199: 100%|██████████| 18880/18880 [05:17<00:00, 59.53it/s, loss=0.000444]\n"
     ]
    },
    {
     "name": "stdout",
     "output_type": "stream",
     "text": [
      "best epoch: 42, psnr: 38.61\n"
     ]
    },
    {
     "name": "stderr",
     "output_type": "stream",
     "text": [
      "epoch: 164/199: 100%|██████████| 18880/18880 [05:07<00:00, 65.01it/s, loss=0.000444]"
     ]
    },
    {
     "name": "stdout",
     "output_type": "stream",
     "text": [
      "eval psnr: 38.56\n"
     ]
    },
    {
     "name": "stderr",
     "output_type": "stream",
     "text": [
      "epoch: 164/199: 100%|██████████| 18880/18880 [05:17<00:00, 59.54it/s, loss=0.000444]\n"
     ]
    },
    {
     "name": "stdout",
     "output_type": "stream",
     "text": [
      "best epoch: 42, psnr: 38.61\n"
     ]
    },
    {
     "name": "stderr",
     "output_type": "stream",
     "text": [
      "epoch: 165/199: 100%|██████████| 18880/18880 [05:10<00:00, 65.01it/s, loss=0.000444]"
     ]
    },
    {
     "name": "stdout",
     "output_type": "stream",
     "text": [
      "eval psnr: 38.56\n"
     ]
    },
    {
     "name": "stderr",
     "output_type": "stream",
     "text": [
      "epoch: 165/199: 100%|██████████| 18880/18880 [05:19<00:00, 59.05it/s, loss=0.000444]\n"
     ]
    },
    {
     "name": "stdout",
     "output_type": "stream",
     "text": [
      "best epoch: 42, psnr: 38.61\n"
     ]
    },
    {
     "name": "stderr",
     "output_type": "stream",
     "text": [
      "epoch: 166/199: 100%|██████████| 18880/18880 [05:10<00:00, 64.62it/s, loss=0.000444]"
     ]
    },
    {
     "name": "stdout",
     "output_type": "stream",
     "text": [
      "eval psnr: 38.56\n"
     ]
    },
    {
     "name": "stderr",
     "output_type": "stream",
     "text": [
      "epoch: 166/199: 100%|██████████| 18880/18880 [05:15<00:00, 59.79it/s, loss=0.000444]\n"
     ]
    },
    {
     "name": "stdout",
     "output_type": "stream",
     "text": [
      "best epoch: 42, psnr: 38.61\n"
     ]
    },
    {
     "name": "stderr",
     "output_type": "stream",
     "text": [
      "epoch: 167/199: 100%|██████████| 18880/18880 [05:24<00:00, 61.22it/s, loss=0.000444]"
     ]
    },
    {
     "name": "stdout",
     "output_type": "stream",
     "text": [
      "eval psnr: 38.56\n"
     ]
    },
    {
     "name": "stderr",
     "output_type": "stream",
     "text": [
      "epoch: 167/199: 100%|██████████| 18880/18880 [05:39<00:00, 55.57it/s, loss=0.000444]\n"
     ]
    },
    {
     "name": "stdout",
     "output_type": "stream",
     "text": [
      "best epoch: 42, psnr: 38.61\n"
     ]
    },
    {
     "name": "stderr",
     "output_type": "stream",
     "text": [
      "epoch: 168/199: 100%|██████████| 18880/18880 [05:25<00:00, 61.08it/s, loss=0.000443]"
     ]
    },
    {
     "name": "stdout",
     "output_type": "stream",
     "text": [
      "eval psnr: 38.56\n",
      "reducing learning rate\n",
      "reducing unet learning rate\n"
     ]
    },
    {
     "name": "stderr",
     "output_type": "stream",
     "text": [
      "epoch: 168/199: 100%|██████████| 18880/18880 [05:32<00:00, 56.70it/s, loss=0.000443]\n"
     ]
    },
    {
     "name": "stdout",
     "output_type": "stream",
     "text": [
      "best epoch: 42, psnr: 38.61\n"
     ]
    },
    {
     "name": "stderr",
     "output_type": "stream",
     "text": [
      "epoch: 169/199: 100%|██████████| 18880/18880 [05:22<00:00, 62.44it/s, loss=0.000444]"
     ]
    },
    {
     "name": "stdout",
     "output_type": "stream",
     "text": [
      "eval psnr: 38.56\n"
     ]
    },
    {
     "name": "stderr",
     "output_type": "stream",
     "text": [
      "epoch: 169/199: 100%|██████████| 18880/18880 [05:33<00:00, 56.67it/s, loss=0.000444]\n"
     ]
    },
    {
     "name": "stdout",
     "output_type": "stream",
     "text": [
      "best epoch: 42, psnr: 38.61\n"
     ]
    },
    {
     "name": "stderr",
     "output_type": "stream",
     "text": [
      "epoch: 170/199: 100%|██████████| 18880/18880 [05:08<00:00, 64.28it/s, loss=0.000444]"
     ]
    },
    {
     "name": "stdout",
     "output_type": "stream",
     "text": [
      "eval psnr: 38.56\n"
     ]
    },
    {
     "name": "stderr",
     "output_type": "stream",
     "text": [
      "epoch: 170/199: 100%|██████████| 18880/18880 [05:19<00:00, 59.16it/s, loss=0.000444]\n"
     ]
    },
    {
     "name": "stdout",
     "output_type": "stream",
     "text": [
      "best epoch: 42, psnr: 38.61\n"
     ]
    },
    {
     "name": "stderr",
     "output_type": "stream",
     "text": [
      "epoch: 171/199: 100%|██████████| 18880/18880 [05:09<00:00, 63.31it/s, loss=0.000444]"
     ]
    },
    {
     "name": "stdout",
     "output_type": "stream",
     "text": [
      "eval psnr: 38.56\n"
     ]
    },
    {
     "name": "stderr",
     "output_type": "stream",
     "text": [
      "epoch: 171/199: 100%|██████████| 18880/18880 [05:19<00:00, 59.01it/s, loss=0.000444]\n"
     ]
    },
    {
     "name": "stdout",
     "output_type": "stream",
     "text": [
      "best epoch: 42, psnr: 38.61\n"
     ]
    },
    {
     "name": "stderr",
     "output_type": "stream",
     "text": [
      "epoch: 172/199: 100%|██████████| 18880/18880 [05:19<00:00, 62.19it/s, loss=0.000444]"
     ]
    },
    {
     "name": "stdout",
     "output_type": "stream",
     "text": [
      "eval psnr: 38.56\n"
     ]
    },
    {
     "name": "stderr",
     "output_type": "stream",
     "text": [
      "epoch: 172/199: 100%|██████████| 18880/18880 [05:33<00:00, 56.67it/s, loss=0.000444]\n"
     ]
    },
    {
     "name": "stdout",
     "output_type": "stream",
     "text": [
      "best epoch: 42, psnr: 38.61\n"
     ]
    },
    {
     "name": "stderr",
     "output_type": "stream",
     "text": [
      "epoch: 173/199: 100%|██████████| 18880/18880 [05:26<00:00, 59.27it/s, loss=0.000444]"
     ]
    },
    {
     "name": "stdout",
     "output_type": "stream",
     "text": [
      "eval psnr: 38.56\n"
     ]
    },
    {
     "name": "stderr",
     "output_type": "stream",
     "text": [
      "epoch: 173/199: 100%|██████████| 18880/18880 [05:37<00:00, 55.88it/s, loss=0.000444]\n"
     ]
    },
    {
     "name": "stdout",
     "output_type": "stream",
     "text": [
      "best epoch: 42, psnr: 38.61\n"
     ]
    },
    {
     "name": "stderr",
     "output_type": "stream",
     "text": [
      "epoch: 174/199: 100%|██████████| 18880/18880 [05:08<00:00, 65.03it/s, loss=0.000444]"
     ]
    },
    {
     "name": "stdout",
     "output_type": "stream",
     "text": [
      "eval psnr: 38.56\n"
     ]
    },
    {
     "name": "stderr",
     "output_type": "stream",
     "text": [
      "epoch: 174/199: 100%|██████████| 18880/18880 [05:16<00:00, 59.63it/s, loss=0.000444]\n"
     ]
    },
    {
     "name": "stdout",
     "output_type": "stream",
     "text": [
      "best epoch: 42, psnr: 38.61\n"
     ]
    },
    {
     "name": "stderr",
     "output_type": "stream",
     "text": [
      "epoch: 175/199: 100%|██████████| 18880/18880 [05:11<00:00, 64.48it/s, loss=0.000444]"
     ]
    },
    {
     "name": "stdout",
     "output_type": "stream",
     "text": [
      "eval psnr: 38.56\n",
      "reducing learning rate\n",
      "reducing unet learning rate\n"
     ]
    },
    {
     "name": "stderr",
     "output_type": "stream",
     "text": [
      "epoch: 175/199: 100%|██████████| 18880/18880 [05:18<00:00, 59.22it/s, loss=0.000444]\n"
     ]
    },
    {
     "name": "stdout",
     "output_type": "stream",
     "text": [
      "best epoch: 42, psnr: 38.61\n"
     ]
    },
    {
     "name": "stderr",
     "output_type": "stream",
     "text": [
      "epoch: 176/199: 100%|██████████| 18880/18880 [05:02<00:00, 65.55it/s, loss=0.000444]"
     ]
    },
    {
     "name": "stdout",
     "output_type": "stream",
     "text": [
      "eval psnr: 38.56\n"
     ]
    },
    {
     "name": "stderr",
     "output_type": "stream",
     "text": [
      "epoch: 176/199: 100%|██████████| 18880/18880 [05:15<00:00, 59.84it/s, loss=0.000444]\n"
     ]
    },
    {
     "name": "stdout",
     "output_type": "stream",
     "text": [
      "best epoch: 42, psnr: 38.61\n"
     ]
    },
    {
     "name": "stderr",
     "output_type": "stream",
     "text": [
      "epoch: 177/199: 100%|██████████| 18880/18880 [05:07<00:00, 65.63it/s, loss=0.000444]"
     ]
    },
    {
     "name": "stdout",
     "output_type": "stream",
     "text": [
      "eval psnr: 38.56\n"
     ]
    },
    {
     "name": "stderr",
     "output_type": "stream",
     "text": [
      "epoch: 177/199: 100%|██████████| 18880/18880 [05:14<00:00, 60.02it/s, loss=0.000444]\n"
     ]
    },
    {
     "name": "stdout",
     "output_type": "stream",
     "text": [
      "best epoch: 42, psnr: 38.61\n"
     ]
    },
    {
     "name": "stderr",
     "output_type": "stream",
     "text": [
      "epoch: 178/199: 100%|██████████| 18880/18880 [05:02<00:00, 65.41it/s, loss=0.000444]"
     ]
    },
    {
     "name": "stdout",
     "output_type": "stream",
     "text": [
      "eval psnr: 38.56\n"
     ]
    },
    {
     "name": "stderr",
     "output_type": "stream",
     "text": [
      "epoch: 178/199: 100%|██████████| 18880/18880 [05:16<00:00, 59.65it/s, loss=0.000444]\n"
     ]
    },
    {
     "name": "stdout",
     "output_type": "stream",
     "text": [
      "best epoch: 42, psnr: 38.61\n"
     ]
    },
    {
     "name": "stderr",
     "output_type": "stream",
     "text": [
      "epoch: 179/199: 100%|██████████| 18880/18880 [05:26<00:00, 62.67it/s, loss=0.000444]"
     ]
    },
    {
     "name": "stdout",
     "output_type": "stream",
     "text": [
      "eval psnr: 38.56\n"
     ]
    },
    {
     "name": "stderr",
     "output_type": "stream",
     "text": [
      "epoch: 179/199: 100%|██████████| 18880/18880 [05:32<00:00, 56.78it/s, loss=0.000444]\n"
     ]
    },
    {
     "name": "stdout",
     "output_type": "stream",
     "text": [
      "best epoch: 42, psnr: 38.61\n"
     ]
    },
    {
     "name": "stderr",
     "output_type": "stream",
     "text": [
      "epoch: 180/199: 100%|██████████| 18880/18880 [05:23<00:00, 62.49it/s, loss=0.000444]"
     ]
    },
    {
     "name": "stdout",
     "output_type": "stream",
     "text": [
      "eval psnr: 38.56\n"
     ]
    },
    {
     "name": "stderr",
     "output_type": "stream",
     "text": [
      "epoch: 180/199: 100%|██████████| 18880/18880 [05:33<00:00, 56.62it/s, loss=0.000444]\n"
     ]
    },
    {
     "name": "stdout",
     "output_type": "stream",
     "text": [
      "best epoch: 42, psnr: 38.61\n"
     ]
    },
    {
     "name": "stderr",
     "output_type": "stream",
     "text": [
      "epoch: 181/199: 100%|██████████| 18880/18880 [05:10<00:00, 64.45it/s, loss=0.000444]"
     ]
    },
    {
     "name": "stdout",
     "output_type": "stream",
     "text": [
      "eval psnr: 38.56\n"
     ]
    },
    {
     "name": "stderr",
     "output_type": "stream",
     "text": [
      "epoch: 181/199: 100%|██████████| 18880/18880 [05:19<00:00, 59.16it/s, loss=0.000444]\n"
     ]
    },
    {
     "name": "stdout",
     "output_type": "stream",
     "text": [
      "best epoch: 42, psnr: 38.61\n"
     ]
    },
    {
     "name": "stderr",
     "output_type": "stream",
     "text": [
      "epoch: 182/199: 100%|██████████| 18880/18880 [05:10<00:00, 63.96it/s, loss=0.000444]"
     ]
    },
    {
     "name": "stdout",
     "output_type": "stream",
     "text": [
      "eval psnr: 38.56\n",
      "reducing learning rate\n",
      "reducing unet learning rate\n"
     ]
    },
    {
     "name": "stderr",
     "output_type": "stream",
     "text": [
      "epoch: 182/199: 100%|██████████| 18880/18880 [05:19<00:00, 59.06it/s, loss=0.000444]\n"
     ]
    },
    {
     "name": "stdout",
     "output_type": "stream",
     "text": [
      "best epoch: 42, psnr: 38.61\n"
     ]
    },
    {
     "name": "stderr",
     "output_type": "stream",
     "text": [
      "epoch: 183/199: 100%|██████████| 18880/18880 [05:11<00:00, 65.03it/s, loss=0.000444]"
     ]
    },
    {
     "name": "stdout",
     "output_type": "stream",
     "text": [
      "eval psnr: 38.56\n"
     ]
    },
    {
     "name": "stderr",
     "output_type": "stream",
     "text": [
      "epoch: 183/199: 100%|██████████| 18880/18880 [05:19<00:00, 59.12it/s, loss=0.000444]\n"
     ]
    },
    {
     "name": "stdout",
     "output_type": "stream",
     "text": [
      "best epoch: 42, psnr: 38.61\n"
     ]
    },
    {
     "name": "stderr",
     "output_type": "stream",
     "text": [
      "epoch: 184/199: 100%|██████████| 18880/18880 [05:11<00:00, 64.61it/s, loss=0.000444]"
     ]
    },
    {
     "name": "stdout",
     "output_type": "stream",
     "text": [
      "eval psnr: 38.56\n"
     ]
    },
    {
     "name": "stderr",
     "output_type": "stream",
     "text": [
      "epoch: 184/199: 100%|██████████| 18880/18880 [05:18<00:00, 59.28it/s, loss=0.000444]\n"
     ]
    },
    {
     "name": "stdout",
     "output_type": "stream",
     "text": [
      "best epoch: 42, psnr: 38.61\n"
     ]
    },
    {
     "name": "stderr",
     "output_type": "stream",
     "text": [
      "epoch: 185/199: 100%|██████████| 18880/18880 [05:13<00:00, 64.28it/s, loss=0.000444]"
     ]
    },
    {
     "name": "stdout",
     "output_type": "stream",
     "text": [
      "eval psnr: 38.56\n"
     ]
    },
    {
     "name": "stderr",
     "output_type": "stream",
     "text": [
      "epoch: 185/199: 100%|██████████| 18880/18880 [05:18<00:00, 59.25it/s, loss=0.000444]\n"
     ]
    },
    {
     "name": "stdout",
     "output_type": "stream",
     "text": [
      "best epoch: 42, psnr: 38.61\n"
     ]
    },
    {
     "name": "stderr",
     "output_type": "stream",
     "text": [
      "epoch: 186/199: 100%|██████████| 18880/18880 [05:04<00:00, 64.79it/s, loss=0.000443]"
     ]
    },
    {
     "name": "stdout",
     "output_type": "stream",
     "text": [
      "eval psnr: 38.56\n"
     ]
    },
    {
     "name": "stderr",
     "output_type": "stream",
     "text": [
      "epoch: 186/199: 100%|██████████| 18880/18880 [05:18<00:00, 59.19it/s, loss=0.000443]\n"
     ]
    },
    {
     "name": "stdout",
     "output_type": "stream",
     "text": [
      "best epoch: 42, psnr: 38.61\n"
     ]
    },
    {
     "name": "stderr",
     "output_type": "stream",
     "text": [
      "epoch: 187/199: 100%|██████████| 18880/18880 [05:05<00:00, 64.76it/s, loss=0.000443]"
     ]
    },
    {
     "name": "stdout",
     "output_type": "stream",
     "text": [
      "eval psnr: 38.56\n"
     ]
    },
    {
     "name": "stderr",
     "output_type": "stream",
     "text": [
      "epoch: 187/199: 100%|██████████| 18880/18880 [05:18<00:00, 59.22it/s, loss=0.000443]\n"
     ]
    },
    {
     "name": "stdout",
     "output_type": "stream",
     "text": [
      "best epoch: 42, psnr: 38.61\n"
     ]
    },
    {
     "name": "stderr",
     "output_type": "stream",
     "text": [
      "epoch: 188/199: 100%|██████████| 18880/18880 [05:06<00:00, 64.04it/s, loss=0.000444]"
     ]
    },
    {
     "name": "stdout",
     "output_type": "stream",
     "text": [
      "eval psnr: 38.56\n"
     ]
    },
    {
     "name": "stderr",
     "output_type": "stream",
     "text": [
      "epoch: 188/199: 100%|██████████| 18880/18880 [05:18<00:00, 59.21it/s, loss=0.000444]\n"
     ]
    },
    {
     "name": "stdout",
     "output_type": "stream",
     "text": [
      "best epoch: 42, psnr: 38.61\n"
     ]
    },
    {
     "name": "stderr",
     "output_type": "stream",
     "text": [
      "epoch: 189/199: 100%|██████████| 18880/18880 [05:07<00:00, 64.35it/s, loss=0.000444]"
     ]
    },
    {
     "name": "stdout",
     "output_type": "stream",
     "text": [
      "eval psnr: 38.56\n",
      "reducing learning rate\n",
      "reducing unet learning rate\n"
     ]
    },
    {
     "name": "stderr",
     "output_type": "stream",
     "text": [
      "epoch: 189/199: 100%|██████████| 18880/18880 [05:18<00:00, 59.36it/s, loss=0.000444]\n"
     ]
    },
    {
     "name": "stdout",
     "output_type": "stream",
     "text": [
      "best epoch: 42, psnr: 38.61\n"
     ]
    },
    {
     "name": "stderr",
     "output_type": "stream",
     "text": [
      "epoch: 190/199: 100%|██████████| 18880/18880 [05:09<00:00, 64.53it/s, loss=0.000443]"
     ]
    },
    {
     "name": "stdout",
     "output_type": "stream",
     "text": [
      "eval psnr: 38.56\n"
     ]
    },
    {
     "name": "stderr",
     "output_type": "stream",
     "text": [
      "epoch: 190/199: 100%|██████████| 18880/18880 [05:17<00:00, 59.45it/s, loss=0.000443]\n"
     ]
    },
    {
     "name": "stdout",
     "output_type": "stream",
     "text": [
      "best epoch: 42, psnr: 38.61\n"
     ]
    },
    {
     "name": "stderr",
     "output_type": "stream",
     "text": [
      "epoch: 191/199: 100%|██████████| 18880/18880 [05:21<00:00, 61.97it/s, loss=0.000444]"
     ]
    },
    {
     "name": "stdout",
     "output_type": "stream",
     "text": [
      "eval psnr: 38.56\n"
     ]
    },
    {
     "name": "stderr",
     "output_type": "stream",
     "text": [
      "epoch: 191/199: 100%|██████████| 18880/18880 [05:34<00:00, 56.47it/s, loss=0.000444]\n"
     ]
    },
    {
     "name": "stdout",
     "output_type": "stream",
     "text": [
      "best epoch: 42, psnr: 38.61\n"
     ]
    },
    {
     "name": "stderr",
     "output_type": "stream",
     "text": [
      "epoch: 192/199: 100%|██████████| 18880/18880 [05:27<00:00, 61.99it/s, loss=0.000444]"
     ]
    },
    {
     "name": "stdout",
     "output_type": "stream",
     "text": [
      "eval psnr: 38.56\n"
     ]
    },
    {
     "name": "stderr",
     "output_type": "stream",
     "text": [
      "epoch: 192/199: 100%|██████████| 18880/18880 [05:34<00:00, 56.36it/s, loss=0.000444]\n"
     ]
    },
    {
     "name": "stdout",
     "output_type": "stream",
     "text": [
      "best epoch: 42, psnr: 38.61\n"
     ]
    },
    {
     "name": "stderr",
     "output_type": "stream",
     "text": [
      "epoch: 193/199: 100%|██████████| 18880/18880 [05:22<00:00, 63.79it/s, loss=0.000444]"
     ]
    },
    {
     "name": "stdout",
     "output_type": "stream",
     "text": [
      "eval psnr: 38.56\n"
     ]
    },
    {
     "name": "stderr",
     "output_type": "stream",
     "text": [
      "epoch: 193/199: 100%|██████████| 18880/18880 [05:34<00:00, 56.36it/s, loss=0.000444]\n"
     ]
    },
    {
     "name": "stdout",
     "output_type": "stream",
     "text": [
      "best epoch: 42, psnr: 38.61\n"
     ]
    },
    {
     "name": "stderr",
     "output_type": "stream",
     "text": [
      "epoch: 194/199: 100%|██████████| 18880/18880 [05:27<00:00, 62.17it/s, loss=0.000444]"
     ]
    },
    {
     "name": "stdout",
     "output_type": "stream",
     "text": [
      "eval psnr: 38.56\n"
     ]
    },
    {
     "name": "stderr",
     "output_type": "stream",
     "text": [
      "epoch: 194/199: 100%|██████████| 18880/18880 [05:35<00:00, 56.21it/s, loss=0.000444]\n"
     ]
    },
    {
     "name": "stdout",
     "output_type": "stream",
     "text": [
      "best epoch: 42, psnr: 38.61\n"
     ]
    },
    {
     "name": "stderr",
     "output_type": "stream",
     "text": [
      "epoch: 195/199: 100%|██████████| 18880/18880 [05:31<00:00, 61.02it/s, loss=0.000444]"
     ]
    },
    {
     "name": "stdout",
     "output_type": "stream",
     "text": [
      "eval psnr: 38.56\n"
     ]
    },
    {
     "name": "stderr",
     "output_type": "stream",
     "text": [
      "epoch: 195/199: 100%|██████████| 18880/18880 [05:37<00:00, 55.98it/s, loss=0.000444]\n"
     ]
    },
    {
     "name": "stdout",
     "output_type": "stream",
     "text": [
      "best epoch: 42, psnr: 38.61\n"
     ]
    },
    {
     "name": "stderr",
     "output_type": "stream",
     "text": [
      "epoch: 196/199: 100%|██████████| 18880/18880 [05:24<00:00, 59.15it/s, loss=0.000444]"
     ]
    },
    {
     "name": "stdout",
     "output_type": "stream",
     "text": [
      "eval psnr: 38.56\n",
      "reducing learning rate\n",
      "reducing unet learning rate\n"
     ]
    },
    {
     "name": "stderr",
     "output_type": "stream",
     "text": [
      "epoch: 196/199: 100%|██████████| 18880/18880 [05:38<00:00, 55.73it/s, loss=0.000444]\n"
     ]
    },
    {
     "name": "stdout",
     "output_type": "stream",
     "text": [
      "best epoch: 42, psnr: 38.61\n"
     ]
    },
    {
     "name": "stderr",
     "output_type": "stream",
     "text": [
      "epoch: 197/199: 100%|██████████| 18880/18880 [05:25<00:00, 61.04it/s, loss=0.000443]"
     ]
    },
    {
     "name": "stdout",
     "output_type": "stream",
     "text": [
      "eval psnr: 38.56\n"
     ]
    },
    {
     "name": "stderr",
     "output_type": "stream",
     "text": [
      "epoch: 197/199: 100%|██████████| 18880/18880 [05:37<00:00, 55.91it/s, loss=0.000443]\n"
     ]
    },
    {
     "name": "stdout",
     "output_type": "stream",
     "text": [
      "best epoch: 42, psnr: 38.61\n"
     ]
    },
    {
     "name": "stderr",
     "output_type": "stream",
     "text": [
      "epoch: 198/199: 100%|██████████| 18880/18880 [05:27<00:00, 61.81it/s, loss=0.000444]"
     ]
    },
    {
     "name": "stdout",
     "output_type": "stream",
     "text": [
      "eval psnr: 38.56\n"
     ]
    },
    {
     "name": "stderr",
     "output_type": "stream",
     "text": [
      "epoch: 198/199: 100%|██████████| 18880/18880 [05:33<00:00, 56.55it/s, loss=0.000444]\n"
     ]
    },
    {
     "name": "stdout",
     "output_type": "stream",
     "text": [
      "best epoch: 42, psnr: 38.61\n"
     ]
    },
    {
     "name": "stderr",
     "output_type": "stream",
     "text": [
      "epoch: 199/199: 100%|██████████| 18880/18880 [05:23<00:00, 62.01it/s, loss=0.000444]"
     ]
    },
    {
     "name": "stdout",
     "output_type": "stream",
     "text": [
      "eval psnr: 38.56\n"
     ]
    },
    {
     "name": "stderr",
     "output_type": "stream",
     "text": [
      "epoch: 199/199: 100%|██████████| 18880/18880 [05:36<00:00, 56.08it/s, loss=0.000444]\n"
     ]
    },
    {
     "name": "stdout",
     "output_type": "stream",
     "text": [
      "best epoch: 42, psnr: 38.61\n"
     ]
    },
    {
     "name": "stderr",
     "output_type": "stream",
     "text": [
      "C:\\Users\\CSE-312-02\\AppData\\Local\\Temp\\ipykernel_6628\\2708574523.py:411: FutureWarning: You are using `torch.load` with `weights_only=False` (the current default value), which uses the default pickle module implicitly. It is possible to construct malicious pickle data which will execute arbitrary code during unpickling (See https://github.com/pytorch/pytorch/blob/main/SECURITY.md#untrusted-models for more details). In a future release, the default value for `weights_only` will be flipped to `True`. This limits the functions that could be executed during unpickling. Arbitrary objects will no longer be allowed to be loaded via this mode unless they are explicitly allowlisted by the user via `torch.serialization.add_safe_globals`. We recommend you start setting `weights_only=True` for any use case where you don't have full control of the loaded file. Please open an issue on GitHub for any issues related to this experimental feature.\n",
      "  for n, p in torch.load('weight_rcan/best.pth', map_location=lambda storage, loc: storage).items():\n"
     ]
    },
    {
     "ename": "ModuleNotFoundError",
     "evalue": "No module named 'pytorch_ssim'",
     "output_type": "error",
     "traceback": [
      "\u001b[1;31m---------------------------------------------------------------------------\u001b[0m",
      "\u001b[1;31mModuleNotFoundError\u001b[0m                       Traceback (most recent call last)",
      "Cell \u001b[1;32mIn[5], line 419\u001b[0m\n\u001b[0;32m    417\u001b[0m model\u001b[38;5;241m.\u001b[39meval()\n\u001b[0;32m    418\u001b[0m unet_model\u001b[38;5;241m.\u001b[39meval()\n\u001b[1;32m--> 419\u001b[0m \u001b[38;5;28;01mfrom\u001b[39;00m \u001b[38;5;21;01mpytorch_ssim\u001b[39;00m \u001b[38;5;28;01mimport\u001b[39;00m ssim \u001b[38;5;28;01mas\u001b[39;00m pytorch_ssim_ssim\n\u001b[0;32m    420\u001b[0m \u001b[38;5;28;01mdef\u001b[39;00m \u001b[38;5;21mssim\u001b[39m(img1, img2):\n\u001b[0;32m    421\u001b[0m   window_size \u001b[38;5;241m=\u001b[39m \u001b[38;5;241m11\u001b[39m\n",
      "\u001b[1;31mModuleNotFoundError\u001b[0m: No module named 'pytorch_ssim'"
     ]
    }
   ],
   "source": [
    "\"\"\"\n",
    "RCAN model\n",
    "\"\"\"\n",
    "class SpectralAttention(nn.Module):\n",
    "    def __init__(self, num_features, reduction):\n",
    "        super(SpectralAttention, self).__init__()\n",
    "        self.module = nn.Sequential(\n",
    "            nn.AdaptiveAvgPool2d(1),\n",
    "            nn.Conv2d(num_features, num_features // reduction, kernel_size=1),\n",
    "            nn.ReLU(inplace=True),\n",
    "            nn.Conv2d(num_features // reduction, num_features, kernel_size=1),\n",
    "            nn.Sigmoid()\n",
    "        )\n",
    "\n",
    "    def forward(self, x):\n",
    "        return x * self.module(x)\n",
    "\n",
    "class ChannelAttention(nn.Module):\n",
    "    def __init__(self, num_features, reduction):\n",
    "        super(ChannelAttention, self).__init__()\n",
    "        self.module = nn.Sequential(\n",
    "            nn.AdaptiveAvgPool2d(1),\n",
    "            nn.Conv2d(num_features, num_features // reduction, kernel_size=1),\n",
    "            nn.ReLU(inplace=True),\n",
    "            nn.Conv2d(num_features // reduction, num_features, kernel_size=1),\n",
    "            nn.Sigmoid()\n",
    "        )\n",
    "\n",
    "    def forward(self, x):\n",
    "        return x * self.module(x)\n",
    "\n",
    "class RCAB(nn.Module):\n",
    "    def __init__(self, num_features, reduction):\n",
    "        super(RCAB, self).__init__()\n",
    "        self.module = nn.Sequential(\n",
    "            nn.Conv2d(num_features, num_features, kernel_size=3, padding=1),\n",
    "            nn.ReLU(inplace=True),\n",
    "            nn.Conv2d(num_features, num_features, kernel_size=3, padding=1),\n",
    "            ChannelAttention(num_features, reduction)\n",
    "        )\n",
    "\n",
    "    def forward(self, x):\n",
    "        return x + self.module(x)\n",
    "\n",
    "class RG(nn.Module):\n",
    "    def __init__(self, num_features, num_rcab, reduction):\n",
    "        super(RG, self).__init__()\n",
    "        self.module = [RCAB(num_features, reduction) for _ in range(num_rcab)]\n",
    "        self.module.append(nn.Conv2d(num_features, num_features, kernel_size=3, padding=1))\n",
    "        self.module = nn.Sequential(*self.module)\n",
    "\n",
    "    def forward(self, x):\n",
    "        return x + self.module(x)\n",
    "\n",
    "class RCAN(nn.Module):\n",
    "    def __init__(self, args):\n",
    "        super(RCAN, self).__init__()\n",
    "        scale = args.scale\n",
    "        num_features = args.num_features\n",
    "        num_rg = args.num_rg\n",
    "        num_rcab = args.num_rcab\n",
    "        reduction = args.reduction\n",
    "\n",
    "        self.sf = nn.Conv2d(13, num_features, kernel_size=3, padding=1) # modified from 3 to 13\n",
    "        self.spectral_attention = SpectralAttention(num_features, reduction) #added spectral attention\n",
    "        # RIR layers\n",
    "        self.rgs = nn.Sequential(*[RG(num_features, num_rcab, reduction) for _ in range(num_rg)])\n",
    "        self.conv1 = nn.Conv2d(num_features, num_features, kernel_size=3, padding=1)\n",
    "        self.upscale = nn.Sequential(\n",
    "            nn.Conv2d(num_features, num_features * (scale ** 2), kernel_size=3, padding=1),\n",
    "            nn.PixelShuffle(scale)\n",
    "        )\n",
    "        self.conv2 = nn.Conv2d(num_features, 13, kernel_size=3, padding=1) # modified to 13 output channels\n",
    "\n",
    "    def forward(self, x):\n",
    "        x = self.sf(x)\n",
    "        x = self.spectral_attention(x) #applying spectral attention here\n",
    "        residual = x\n",
    "        x = self.rgs(x)\n",
    "        x = self.conv1(x)\n",
    "        x += residual\n",
    "        x = self.upscale(x)\n",
    "        x = self.conv2(x)\n",
    "        return x\n",
    "\n",
    "class UNet(nn.Module):\n",
    "  def __init__(self, in_channels, out_channels, features=64):\n",
    "        super(UNet, self).__init__()\n",
    "        self.pool = nn.MaxPool2d(kernel_size=(2, 2), stride=(2, 2))\n",
    "        self.conv1 = nn.Conv2d(in_channels, features, kernel_size=(3, 3), stride=(1, 1), padding=1)\n",
    "        self.conv2 = nn.Conv2d(features, features*2, kernel_size=(3, 3), stride=(1, 1), padding=1)\n",
    "        self.conv3 = nn.Conv2d(features*2, features*4, kernel_size=(3, 3), stride=(1, 1), padding=1)\n",
    "        self.conv4 = nn.Conv2d(features*4, features*8, kernel_size=(3, 3), stride=(1, 1), padding=1)\n",
    "        self.conv5 = nn.ConvTranspose2d(features*8, features*4, kernel_size=(2, 2), stride=(2,2))\n",
    "        self.conv6 = nn.ConvTranspose2d(features*8, features*2, kernel_size=(2, 2), stride=(2,2))\n",
    "        self.conv7 = nn.ConvTranspose2d(features*4, features, kernel_size=(2, 2), stride=(2,2))\n",
    "        self.conv8 = nn.Conv2d(features*2, out_channels, kernel_size=(3, 3), stride=(1, 1), padding=1)\n",
    "\n",
    "  def forward(self, x):\n",
    "     x1 = F.relu(self.conv1(x))\n",
    "     x2 = F.relu(self.conv2(self.pool(x1)))\n",
    "     x3 = F.relu(self.conv3(self.pool(x2)))\n",
    "     x4 = F.relu(self.conv4(self.pool(x3)))\n",
    "     x5 = F.relu(self.conv5(x4))\n",
    "     x6 = torch.cat([x5, x3], dim = 1)\n",
    "     x6 = F.relu(self.conv6(x6))\n",
    "     x7 = torch.cat([x6, x2], dim = 1)\n",
    "     x7 = F.relu(self.conv7(x7))\n",
    "     x8 = torch.cat([x7, x1], dim = 1)\n",
    "     out = F.relu(self.conv8(x8))\n",
    "     return out\n",
    "\n",
    "class VGG19(nn.Module):\n",
    "    def __init__(self, pretrained=True, end_with='pool4'):\n",
    "        super().__init__()\n",
    "        self.features = models.vgg19(pretrained=pretrained).features\n",
    "        self.end_with = end_with\n",
    "        self.maxpool = nn.MaxPool2d(kernel_size=2, stride=2, padding=0)\n",
    "\n",
    "    def forward(self, x):\n",
    "        for name, module in self.features._modules.items():\n",
    "            x = module(x)\n",
    "            if name == self.end_with:\n",
    "              return x\n",
    "        return x\n",
    "\n",
    "\"\"\"\n",
    "Setup the dataset\n",
    "\"\"\"\n",
    "\n",
    "def split_dataset(eurosat_path, dataset_path, split_ratio=(0.7, 0.15, 0.15)):\n",
    "    \"\"\"Splits the eurosat dataset into train, validation, and test sets.\"\"\"\n",
    "    if os.path.exists(dataset_path):\n",
    "      print(\"Dataset folder already exists, skipping dataset creation...\")\n",
    "      return\n",
    "    os.makedirs(dataset_path, exist_ok=True)\n",
    "    classes = [d for d in os.listdir(eurosat_path) if os.path.isdir(os.path.join(eurosat_path, d))]\n",
    "\n",
    "    for split_type in ['train', 'val', 'test']:\n",
    "        os.makedirs(os.path.join(dataset_path, split_type), exist_ok=True)\n",
    "        for class_name in classes:\n",
    "             os.makedirs(os.path.join(dataset_path, split_type, class_name), exist_ok=True)\n",
    "\n",
    "    for class_name in classes:\n",
    "        class_path = os.path.join(eurosat_path, class_name)\n",
    "        image_files = [f for f in os.listdir(class_path) if os.path.isfile(os.path.join(class_path, f))]\n",
    "\n",
    "        random.shuffle(image_files)\n",
    "        train_size = int(len(image_files) * split_ratio[0])\n",
    "        val_size = int(len(image_files) * split_ratio[1])\n",
    "        # remaining will be test\n",
    "\n",
    "        train_files = image_files[:train_size]\n",
    "        val_files = image_files[train_size:train_size + val_size]\n",
    "        test_files = image_files[train_size + val_size:]\n",
    "\n",
    "        for split_type, files in zip(['train', 'val', 'test'], [train_files, val_files, test_files]):\n",
    "            for file_name in files:\n",
    "                src_path = os.path.join(class_path, file_name)\n",
    "                dst_path = os.path.join(dataset_path, split_type, file_name)\n",
    "                print(f\"Copying {src_path} to {dst_path}\")\n",
    "                shutil.copyfile(src_path, dst_path)\n",
    "\n",
    "class CustomDataset(Dataset):\n",
    "    def __init__(self, dataset_path, scale=4):\n",
    "        super(CustomDataset, self).__init__()\n",
    "        self.image_paths = []\n",
    "        for dirpath, dirnames, filenames in os.walk(dataset_path):\n",
    "            for filename in filenames:\n",
    "               if filename.endswith('.png') or filename.endswith('.jpg'):\n",
    "                  self.image_paths.append(os.path.join(dirpath, filename))\n",
    "        self.scale = scale\n",
    "\n",
    "    def __getitem__(self, idx):\n",
    "        hr_path = self.image_paths[idx]\n",
    "        hr = Image.open(hr_path)\n",
    "        # resize images\n",
    "        hr = hr.resize((64,64), resample=Image.BICUBIC)\n",
    "\n",
    "        lr_size = (64 // self.scale, 64 // self.scale)\n",
    "        lr = hr.resize(lr_size, resample = Image.BICUBIC) # creates lr from hr\n",
    "        \n",
    "        # convert data type\n",
    "        hr = np.array(hr).astype(np.float32)\n",
    "        lr = np.array(lr).astype(np.float32)\n",
    "        # take only the first 13 channels of data\n",
    "        if hr.shape[2] > 13:\n",
    "            hr = hr[...,:13]\n",
    "            lr = lr[...,:13]\n",
    "        elif hr.shape[2] < 13: # padding case\n",
    "            channels_to_add = 13 - hr.shape[2]\n",
    "            hr = np.pad(hr, ((0, 0), (0, 0), (0, channels_to_add)), 'constant')\n",
    "            lr = np.pad(lr, ((0, 0), (0, 0), (0, channels_to_add)), 'constant')\n",
    "        # transpose and normalize\n",
    "        hr = np.transpose(hr, axes=[2, 0, 1])\n",
    "        lr = np.transpose(lr, axes=[2, 0, 1])\n",
    "        \n",
    "        hr /= 255.0\n",
    "        lr /= 255.0\n",
    "        return lr, hr\n",
    "\n",
    "    def __len__(self):\n",
    "        return len(self.image_paths)\n",
    "\n",
    "# creates h5 data files for you in the directory of the `path`\n",
    "eurosat_path = 'archive\\eurosat'\n",
    "dataset_path = 'dataset'\n",
    "split_dataset(eurosat_path, dataset_path) # splits your data\n",
    "\"\"\"\n",
    "Model Setup\n",
    "\"\"\"\n",
    "torch.manual_seed(123)\n",
    "device = torch.device(\"cuda:0\" if torch.cuda.is_available() else \"cpu\")\n",
    "\n",
    "ParamStrct = namedtuple('ParamStrct', 'scale num_features num_rg num_rcab reduction')\n",
    "param = ParamStrct(4, 64, 6, 16, 16)\n",
    "batch_size = 32 # adjust the batch size to your resource and preference\n",
    "\n",
    "model = RCAN(param).to(device)\n",
    "unet_model = UNet(in_channels = 13, out_channels = 13, features = 64).to(device)\n",
    "vgg_model = VGG19(pretrained = True, end_with = 'pool4').to(device)\n",
    "\n",
    "criterion = nn.L1Loss()\n",
    "optimizer = optim.Adam(model.parameters(), lr=1e-4)\n",
    "optimizer_unet = optim.Adam(unet_model.parameters(), lr = 1e-4)\n",
    "\"\"\"\n",
    "Setup data loader\n",
    "\"\"\"\n",
    "train_dataset = CustomDataset(os.path.join(dataset_path, 'train'))\n",
    "train_dataloader = DataLoader(dataset=train_dataset,\n",
    "                                  batch_size=batch_size,\n",
    "                                  shuffle=True,\n",
    "                                  num_workers=0,\n",
    "                                  pin_memory=True,\n",
    "                                  drop_last=True)\n",
    "eval_dataset = CustomDataset(os.path.join(dataset_path, 'val'))\n",
    "eval_dataloader = DataLoader(dataset=eval_dataset, batch_size=batch_size)\n",
    "test_dataset = CustomDataset(os.path.join(dataset_path, 'test'))\n",
    "test_dataloader = DataLoader(dataset=test_dataset, batch_size=1) # batch size is 1 here to evaluate each image independently\n",
    "\"\"\"\n",
    "Util function to measure error\n",
    "\"\"\"\n",
    "class AverageMeter(object):\n",
    "    def __init__(self):\n",
    "        self.reset()\n",
    "\n",
    "    def reset(self):\n",
    "        self.val = 0\n",
    "        self.avg = 0\n",
    "        self.sum = 0\n",
    "        self.count = 0\n",
    "\n",
    "    def update(self, val, n=1):\n",
    "        self.val = val\n",
    "        self.sum += val * n\n",
    "        self.count += n\n",
    "        self.avg = self.sum / self.count\n",
    "\n",
    "\"\"\"\n",
    "Calculate PSNR\n",
    "\"\"\"\n",
    "def calc_psnr(img1, img2):\n",
    "    return 10. * torch.log10(1. / torch.mean((img1 - img2) ** 2))\n",
    "\n",
    "def vgg_loss(sr, hr, vgg_model):\n",
    "   sr_features = vgg_model((sr[:,:3,:,:]+1)/2.)\n",
    "   hr_features = vgg_model((hr[:,:3,:,:]+1)/2.)\n",
    "   vgg_loss = torch.mean((sr_features-hr_features)**2)\n",
    "   return vgg_loss\n",
    "\n",
    "\"\"\"\n",
    "Train and val the model\n",
    "\"\"\"\n",
    "best_weights = copy.deepcopy(model.state_dict())\n",
    "best_epoch = 0\n",
    "best_psnr = 0.0\n",
    "# make a directory called \"weight_rcan\" to store weights\n",
    "os.makedirs('weight_rcan', exist_ok = True)\n",
    "os.makedirs('result_images', exist_ok = True)\n",
    "os.makedirs('results_test_visualization', exist_ok = True)\n",
    "\n",
    "checkpoint_path = \"checkpoint.pth\"\n",
    "# check to see if a checkpoint exists\n",
    "if os.path.exists(checkpoint_path):\n",
    "  checkpoint = torch.load(checkpoint_path)\n",
    "  model.load_state_dict(checkpoint['model_state_dict'])\n",
    "  optimizer.load_state_dict(checkpoint['optimizer_state_dict'])\n",
    "  optimizer_unet.load_state_dict(checkpoint['optimizer_unet_state_dict'])\n",
    "  best_psnr = checkpoint['best_psnr']\n",
    "  best_epoch = checkpoint['best_epoch']\n",
    "  print(f\"Checkpoint Loaded at epoch {best_epoch} and best psnr of {best_psnr}\")\n",
    "else:\n",
    "    print(\"No Checkpoint Found\")\n",
    "\n",
    "num_epoch = 200\n",
    "patience = 6 # number of epochs to wait without improvement\n",
    "lr_decay_factor = 0.5\n",
    "patience_counter = 0\n",
    "\n",
    "\n",
    "\n",
    "for epoch in range(num_epoch):\n",
    "    model.train()\n",
    "    unet_model.train()\n",
    "    vgg_model.eval()\n",
    "    epoch_losses = AverageMeter()\n",
    "\n",
    "    with tqdm(total=(len(train_dataset) - len(train_dataset) % batch_size)) as t:\n",
    "        t.set_description('epoch: {}/{}'.format(epoch, num_epoch - 1))\n",
    "        \n",
    "        # training\n",
    "        for data in train_dataloader:\n",
    "            inputs, labels = data\n",
    "\n",
    "            inputs = inputs.to(device, dtype=torch.float)\n",
    "            labels = labels.to(device, dtype=torch.float)\n",
    "            \n",
    "            multi_scale_features = unet_model(inputs)\n",
    "\n",
    "            preds = model(multi_scale_features)\n",
    "\n",
    "            loss = 0.1 * criterion(preds, labels) + 0.0001 * vgg_loss(preds, labels, vgg_model) # combined loss\n",
    "\n",
    "            epoch_losses.update(loss.item(), len(inputs))\n",
    "\n",
    "            optimizer.zero_grad()\n",
    "            optimizer_unet.zero_grad()\n",
    "            loss.backward()\n",
    "            optimizer.step()\n",
    "            optimizer_unet.step()\n",
    "\n",
    "            t.set_postfix(loss='{:.6f}'.format(epoch_losses.avg))\n",
    "            t.update(len(inputs))\n",
    "        torch.save(model.state_dict(), os.path.join('weight_rcan', 'epoch_{}.pth'.format(epoch)))\n",
    "\n",
    "\n",
    "        # validation\n",
    "        model.eval()\n",
    "        unet_model.eval()\n",
    "        epoch_psnr = AverageMeter()\n",
    "\n",
    "        for data in eval_dataloader:\n",
    "            inputs, labels = data\n",
    "\n",
    "            inputs = inputs.to(device, dtype=torch.float)\n",
    "            labels = labels.to(device, dtype=torch.float)\n",
    "\n",
    "            with torch.no_grad():\n",
    "                multi_scale_features = unet_model(inputs)\n",
    "                preds = model(multi_scale_features).clamp(0.0, 1.0)\n",
    "\n",
    "            epoch_psnr.update(calc_psnr(preds, labels), len(inputs))\n",
    "        current_psnr = epoch_psnr.avg\n",
    "        print('eval psnr: {:.2f}'.format(current_psnr))\n",
    "        if (epoch + 1) % 10 == 0:\n",
    "          # Get a random image from the validation dataset\n",
    "            random_index = random.randint(0, len(eval_dataset) - 1)\n",
    "            lr_image, hr_image = eval_dataset[random_index]\n",
    "            lr_image = torch.from_numpy(lr_image).to(device).unsqueeze(0)\n",
    "            with torch.no_grad():\n",
    "              multi_scale_features = unet_model(lr_image)\n",
    "              enhanced_image = model(multi_scale_features).clamp(0,1)\n",
    "              enhanced_image = enhanced_image.squeeze(0).permute(1, 2, 0).cpu().numpy()\n",
    "              enhanced_image = np.asarray((enhanced_image[...,:3] )* 255, dtype=np.uint8) # take first 3 channels, and convert to uint8\n",
    "            hr_image = np.transpose(hr_image, (1, 2, 0))\n",
    "            hr_image = np.asarray(hr_image[...,:3] * 255, dtype = np.uint8) # take the first 3 channels, and make it uint8.\n",
    "            hr_image = Image.fromarray(hr_image)\n",
    "            enhanced_image = Image.fromarray(enhanced_image)\n",
    "            hr_image.save(f'result_images/hr_epoch_{epoch + 1}.png')\n",
    "            enhanced_image.save(f'result_images/enhanced_epoch_{epoch + 1}.png')\n",
    "\n",
    "        if current_psnr > best_psnr:\n",
    "            best_epoch = epoch\n",
    "            best_psnr = current_psnr\n",
    "            best_weights = copy.deepcopy(model.state_dict())\n",
    "            patience_counter = 0\n",
    "        else:\n",
    "          patience_counter += 1\n",
    "\n",
    "        if patience_counter > patience:\n",
    "            for param_group in optimizer.param_groups:\n",
    "              param_group['lr'] *= lr_decay_factor\n",
    "              print(\"reducing learning rate\")\n",
    "            for param_group in optimizer_unet.param_groups:\n",
    "              param_group['lr'] *= lr_decay_factor\n",
    "              print(\"reducing unet learning rate\")\n",
    "            patience_counter = 0\n",
    "        # save checkpoint every epoch\n",
    "        torch.save({\n",
    "           'epoch': epoch,\n",
    "            'model_state_dict': model.state_dict(),\n",
    "            'optimizer_state_dict': optimizer.state_dict(),\n",
    "             'optimizer_unet_state_dict': optimizer_unet.state_dict(),\n",
    "             'best_psnr': best_psnr,\n",
    "             'best_epoch': best_epoch\n",
    "        }, checkpoint_path)\n",
    "\n",
    "\n",
    "    print('best epoch: {}, psnr: {:.2f}'.format(best_epoch, best_psnr))\n",
    "    torch.save(best_weights, os.path.join('weight_rcan', 'best.pth'))\n",
    "\"\"\"\n",
    "Evaluate the model with test set\n",
    "\"\"\"\n",
    "device = torch.device('cuda:0' if torch.cuda.is_available() else 'cpu')\n",
    "\n",
    "model = RCAN(param).to(device)\n",
    "unet_model = UNet(in_channels = 13, out_channels = 13, features = 64).to(device)\n",
    "vgg_model = VGG19(pretrained = True, end_with = 'pool4').to(device)\n",
    "\n",
    "state_dict = model.state_dict()\n",
    "for n, p in torch.load('weight_rcan/best.pth', map_location=lambda storage, loc: storage).items():\n",
    "    if n in state_dict.keys():\n",
    "        state_dict[n].copy_(p)\n",
    "    else:\n",
    "        raise KeyError(n)\n",
    "\n",
    "model.eval()\n",
    "unet_model.eval()\n",
    "from pytorch_ssim import ssim as pytorch_ssim_ssim\n",
    "def ssim(img1, img2):\n",
    "  window_size = 11\n",
    "  (_, channel, _, _) = img1.size()\n",
    "  window = create_window(window_size, channel)\n",
    "  padding = int(window_size/2) # making sure that padding is an integer\n",
    "  return pytorch_ssim_ssim(img1, img2, window, window_size, channel, padding).item()\n",
    "\n",
    "# Adjust the test data path as needed, assuming you have a test folder with similar subfolders\n",
    "test_dataset = CustomDataset(os.path.join(dataset_path, 'test'))\n",
    "test_dataloader = DataLoader(dataset=test_dataset, batch_size=1) # batch size is 1 here to evaluate each image independently\n",
    "\n",
    "\n",
    "psnr_total = 0\n",
    "ssim_total = 0\n",
    "num_test_images = 0\n",
    "for i, data in enumerate(test_dataloader):\n",
    "    inputs, labels = data\n",
    "\n",
    "    inputs = inputs.to(device, dtype=torch.float)\n",
    "    labels = labels.to(device, dtype=torch.float)\n",
    "\n",
    "\n",
    "    with torch.no_grad():\n",
    "      multi_scale_features = unet_model(inputs)\n",
    "      preds = model(multi_scale_features).clamp(0.0, 1.0)\n",
    "\n",
    "    psnr = calc_psnr(labels, preds)\n",
    "    psnr_total += psnr\n",
    "    ssim_total += ssim(labels, preds) # corrected\n",
    "    print('PSNR: {:.2f}'.format(psnr))\n",
    "    print('SSIM: {:.2f}'.format(ssim_total))\n",
    "\n",
    "    output = preds.mul_(255.0).clamp_(0.0, 255.0).squeeze(0).permute(1, 2, 0).byte().cpu().numpy()\n",
    "    output = Image.fromarray(output)\n",
    "    output.save(f'results_test_visualization/img_{i}.png')\n",
    "    num_test_images += 1\n",
    "\n",
    "psnr_total /= num_test_images\n",
    "ssim_total /= num_test_images\n",
    "print('PSNR_T: {:.4f}'.format(psnr_total))\n",
    "print('SSIM_T: {:.4f}'.format(ssim_total))"
   ]
  },
  {
   "cell_type": "code",
   "execution_count": null,
   "metadata": {},
   "outputs": [],
   "source": []
  }
 ],
 "metadata": {
  "kernelspec": {
   "display_name": "devara",
   "language": "python",
   "name": "python3"
  },
  "language_info": {
   "codemirror_mode": {
    "name": "ipython",
    "version": 3
   },
   "file_extension": ".py",
   "mimetype": "text/x-python",
   "name": "python",
   "nbconvert_exporter": "python",
   "pygments_lexer": "ipython3",
   "version": "3.10.16"
  }
 },
 "nbformat": 4,
 "nbformat_minor": 2
}
